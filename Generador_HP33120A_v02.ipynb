{
 "cells": [
  {
   "cell_type": "markdown",
   "id": "heard-cleveland",
   "metadata": {
    "tags": []
   },
   "source": [
    "# Configuración del Generador HP33120A de 15MHz como fuente arbitraria. Desarrollo de la biblioteca de comunicación serial con mediador USB2GPIB.\n",
    "\n",
    "**Autores:** Prof. Andrés Roldán Aranda, Juan del Pino Mena.\n",
    "\n",
    "# Changelog\n",
    "\n",
    "- **V02 - 31/01/2022 - Juan del Pino Mena** - WIP\n",
    "    - [x] Añadido indicaciones para el puerto en Linux.\n",
    "    - [x] Estandarizado el estilo del código: Docuementación y comentarios, sangrado, espaciado, etc.\n",
    "    - [x] Organización del código para la comunicación en dos clases: \n",
    "        - USB2GPIB Contiene funciones de comunicación con el mediador, usando comandos \"++\".\n",
    "        - HP33120A Contiene funciones de gestión con el generador (esclavo). Comandos del estándar SCPI (Standard Commands for Programmable Instruments) enviados a través de USB al mediador, y de este al esclavo (el generador) por GPIB (HP-IB) IEEE-488.2.\n",
    "    - [ ] Implementación del setup y envío de muestras para señales arbitrarias\n",
    "    - [x] Implementación de comandos para sincronizar por trigger ambos generadores\n",
    "    - [ ] Redacción de las clases en archivos .py para poder ser importado como una biblioteca por scripts y notebooks.\n",
    "    \n",
    "- **V01 - 30/09/2021 - Prof. Andrés Roldán Aranda**\n",
    "    - Implementación inicial"
   ]
  },
  {
   "cell_type": "markdown",
   "id": "a569746f-7c5e-446e-abfa-68aa913d9c1b",
   "metadata": {},
   "source": [
    "# Referencias \n",
    "\n",
    "- Emanuele Girlando. ARDUINO UNO as a USB to GPIB controller:\n",
    "    - Versión 2 (6.1) \n",
    "        https://egirland.blogspot.com/2014/03/arduino-uno-as-usb-to-gpib-controller.html\n",
    "    - Versión 1, con referencia de cada comando \"++\" \n",
    "        https://egirland.blogspot.com/2014/02/arduino-uno-as-usb-to-gpib-adapter.html      \n",
    "- Manual \"HP 33120A Function Generator / Arbitrary Waveform Generator\"."
   ]
  },
  {
   "attachments": {
    "ad431049-7d2f-4998-b7fd-5a827c997fde.png": {
     "image/png": "[encoded data removed]"
    }
   },
   "cell_type": "markdown",
   "id": "portable-blast",
   "metadata": {},
   "source": [
    "# Configuración del puerto\n",
    "\n",
    "## En Windows\n",
    "\n",
    "En Windows pulsamos Windows+X y se nos abre la ventana de ejecución y le damos al *Administrador de Dispositivos** y vemos el puerto serie del *Arduino Uno* que realiza la transformación de comandos **RS232** a **GPIB**.\n",
    "\n",
    "Parece que hay otro modelo más avanzado pero necesita una PCB y un microcontrolador potente ARM7. Ver [WEB](https://github.com/xyphro/UsbGpib)\n",
    "\n",
    "![image.png](attachment:ad431049-7d2f-4998-b7fd-5a827c997fde.png)\n",
    "\n",
    "## En Linux\n",
    "\n",
    "En linux, los dispositivos serie por USB aparecen listados en `/dev/ttyUSB*`. No es necesario instalar ningún driver. Lo más usual es que sea simplemente `/dev/ttyUSB0` independientemente del USB al que se conecte. En caso de haber más dispositivos serial conectados, podemos identificarlos rápidamente con: \n",
    "\n",
    "- `lsusb` lista los dispositivos USB conectados al PC. Aparecen identificados por un ID (en el caso del CH340: 1a86:7523).\n",
    "- `ls /dev/USB*` muestra todos los dispositivos serial USB. En la captura sólo hay uno: el `/dev/ttyUSB0`.\n",
    "- `grep PRODUCT= /sys/bus/usb-serial/devices/ttyUSB0/../uevent` nos permite comprobar qué ttyUSB corresponde a qué dispositivo USB, identificado por su ID. Confirmamos que el ID del USB0 es el ID del CH340.\n",
    "\n",
    "\n",
    "(fuente: https://unix.stackexchange.com/questions/81754/how-to-match-a-ttyusbx-device-to-a-usb-serial-device)\n",
    "\n",
    "![linux.png](images/linux_tty.png)\n"
   ]
  },
  {
   "cell_type": "markdown",
   "id": "0d55f45c-8c5d-4d70-9330-1f3d53453710",
   "metadata": {},
   "source": [
    "# Manual del dispositivo"
   ]
  },
  {
   "cell_type": "code",
   "execution_count": 1,
   "id": "44a87642-02b8-4c2d-b28b-4440cefef875",
   "metadata": {},
   "outputs": [
    {
     "data": {
      "text/html": [
       "\n",
       "        <iframe\n",
       "            width=\"1000\"\n",
       "            height=\"700\"\n",
       "            src=\"./docs/user_manual_HP33120A.pdf\"\n",
       "            frameborder=\"0\"\n",
       "            allowfullscreen\n",
       "            \n",
       "        ></iframe>\n",
       "        "
      ],
      "text/plain": [
       "<IPython.lib.display.IFrame at 0x7fccde6eaaa0>"
      ]
     },
     "execution_count": 1,
     "metadata": {},
     "output_type": "execute_result"
    }
   ],
   "source": [
    "from IPython.display import IFrame, display\n",
    "IFrame(\"./docs/user_manual_HP33120A.pdf\", width=1000, height=700)"
   ]
  },
  {
   "cell_type": "markdown",
   "id": "dfc2ec46-47e1-46ab-b7a3-46b79928e562",
   "metadata": {},
   "source": [
    "# Pruebas en línea de comandos\n",
    "\n",
    "Ajeno a la biblioteca, son una colección de funciones y pruebas, que ayudan a entender el comportamiento de los dispositivos, en específico del mediador. Ver biblioteca más abajo."
   ]
  },
  {
   "cell_type": "code",
   "execution_count": null,
   "id": "adolescent-envelope",
   "metadata": {},
   "outputs": [],
   "source": [
    "import serial\n",
    "import time\n",
    "\n",
    "# USAR EL PUERTO EN FUNCIÓN DEL S.O.:\n",
    "\n",
    "# port_USB2GPIB = 'COM3'  # En Windows = COMX, siendo X={1, 2, ...}\n",
    "port_USB2GPIB = '/dev/ttyUSB0'  # En Linux: /dev/ttyUSBX, siendo X = {0, 1, ...}\n",
    "timeout = 0.5  # Timeout global, segundos\n",
    "\n",
    "s = serial.Serial(port_USB2GPIB,        # Puerto\n",
    "                  115200,               # Baudios  \n",
    "                  serial.EIGHTBITS,     # Payload de 8 bits\n",
    "                  serial.PARITY_NONE,   # Sin paridad\n",
    "                  serial.STOPBITS_ONE,  # 1 bit de parada\n",
    "                  timeout=timeout,      # tiempo de dropout\n",
    "                  rtscts=False)         # Señales RTS->CTS"
   ]
  },
  {
   "cell_type": "code",
   "execution_count": 2,
   "id": "passive-probability",
   "metadata": {},
   "outputs": [
    {
     "data": {
      "text/plain": [
       "6"
      ]
     },
     "execution_count": 2,
     "metadata": {},
     "output_type": "execute_result"
    }
   ],
   "source": [
    "s.reset_input_buffer()\n",
    "s.write(b'++ver' + b'\\n')"
   ]
  },
  {
   "cell_type": "code",
   "execution_count": 3,
   "id": "specific-copyright",
   "metadata": {},
   "outputs": [
    {
     "name": "stdout",
     "output_type": "stream",
     "text": [
      "Bytes disponibles=50\n"
     ]
    }
   ],
   "source": [
    "bytes_Available=s.in_waiting\n",
    "print(\"Bytes disponibles=\" + str(bytes_Available))"
   ]
  },
  {
   "cell_type": "code",
   "execution_count": 4,
   "id": "statewide-farming",
   "metadata": {},
   "outputs": [
    {
     "data": {
      "text/plain": [
       "bytes"
      ]
     },
     "execution_count": 4,
     "metadata": {},
     "output_type": "execute_result"
    }
   ],
   "source": [
    "out=s.read(100)\n",
    "type(out)"
   ]
  },
  {
   "cell_type": "code",
   "execution_count": 5,
   "id": "bibliographic-impression",
   "metadata": {},
   "outputs": [
    {
     "name": "stdout",
     "output_type": "stream",
     "text": [
      "Leído=b'ARDUINO GPIB firmware by E. Girlando Version 6.1\\r\\n'\n"
     ]
    }
   ],
   "source": [
    "print(\"Leído=\" + str(out))"
   ]
  },
  {
   "cell_type": "code",
   "execution_count": 6,
   "id": "12a443ad-8546-4d9b-a8f5-8ab065cd463d",
   "metadata": {},
   "outputs": [
    {
     "data": {
      "text/plain": [
       "[b'ARDUINO',\n",
       " b'GPIB',\n",
       " b'firmware',\n",
       " b'by',\n",
       " b'E.',\n",
       " b'Girlando',\n",
       " b'Version',\n",
       " b'6.1']"
      ]
     },
     "execution_count": 6,
     "metadata": {},
     "output_type": "execute_result"
    }
   ],
   "source": [
    "out.split()"
   ]
  },
  {
   "cell_type": "code",
   "execution_count": 7,
   "id": "bound-leather",
   "metadata": {},
   "outputs": [
    {
     "name": "stdout",
     "output_type": "stream",
     "text": [
      "Identify = b'firmware'\n"
     ]
    }
   ],
   "source": [
    "ID_Mediator=out.split()[2]\n",
    "print(\"Identify = \" + str(ID_Mediator))"
   ]
  },
  {
   "cell_type": "markdown",
   "id": "e1204493-1725-4271-8bd8-38e14b497c5e",
   "metadata": {},
   "source": [
    "Discrepancia con el archivo original: la salida anterior era `Identify = b'\"BK2238\"'`, pero el string de `out` es el que es, se ha identificado correctamente. ¿Qué ocurre? ¿Es importante el `BK2238`?\n",
    "\n",
    "NOTA: No, era de otro equipo mediador. No es relevante\n",
    "\n",
    "\n",
    "---\n",
    "\n",
    "\n",
    "Nota (Juan): Redactado comentarios, arreglado el estilo de sangrado, añadido parámetros opcionales.\n",
    "Cambiado el tipo de verbose de int a bool y hecho parámetro opcional, para dar consistencia.\n",
    "Implementar en una clase?"
   ]
  },
  {
   "cell_type": "code",
   "execution_count": 9,
   "id": "operating-local",
   "metadata": {},
   "outputs": [],
   "source": [
    "length_string_read = 100  # Cte: longitud de caracteres a leer del buffer.\n",
    "\n",
    "def Identify_USB2GPIB(verbose=True):   # Prof. Andrés Roldán\n",
    "    \"\"\" \n",
    "    Envío de comando para que identificar al intermediario\n",
    "    Read ++ver\n",
    "    \"\"\"\n",
    "    \n",
    "    s.reset_input_buffer()\n",
    "    s.write(b'++ver' + b'\\r\\n')\n",
    "    out = s.read(length_string_read)\n",
    "    \n",
    "    if verbose:\n",
    "        print(\"Leído=\" + str(out))\n",
    "    return(out)\n",
    "\n",
    "\n",
    "def USB2GPIB_AutoResponse_Set(auto_mode=0, verbose=True):   # Prof. Andrés Roldán\n",
    "    \"\"\" \n",
    "    Envío de comando para establecer la respuesta automática del mediador y no \n",
    "    tener que hacer un ++read por cada comando enviado.\n",
    "    Send ++auto <param>, por defecto auto_mode=0 (0: automático, 1: no automático) \n",
    "    \"\"\"\n",
    "    \n",
    "    #Enviamos comando para que se identifique\n",
    "    s.reset_input_buffer()\n",
    "    command_query = f'++auto {auto_mode} '\n",
    "    s.write(command_query.encode() + b'\\r\\n')\n",
    "    \n",
    "    if verbose:\n",
    "        print(\"Enviado \" + \"++auto \" + str(auto_mode))\n",
    "       \n",
    "    \n",
    "def USB2GPIB_AutoResponse_Get(verbose=True):   # Prof. Andrés Roldán\n",
    "    \"\"\" \n",
    "    Pregunta al mediador por su estado de AutoResponse.\n",
    "    Send ++auto\n",
    "    \"\"\"\n",
    "    \n",
    "    s.reset_input_buffer()\n",
    "    command_query = '++auto'\n",
    "    s.write(command_query.encode() + b'\\r\\n')\n",
    "    out = s.read(length_string_read)\n",
    "    \n",
    "    if verbose:\n",
    "        print(\"Leído=\" + str(out))\n",
    "    return(out)            \n",
    "            \n",
    "    \n",
    "def USB2GPIB_Slave_Address_Set(address, verbose=True):   # Prof. Andrés Roldán\n",
    "    \"\"\" \n",
    "    Establece la dirección del esclavo.\n",
    "    Send ++addr Address\n",
    "    \"\"\"\n",
    "    \n",
    "    s.reset_input_buffer()\n",
    "    command_query = '++addr '\n",
    "    s.write(command_query.encode() + (str(address)).encode() + b'\\r\\n')\n",
    "    \n",
    "    if verbose:\n",
    "        print(\"Enviado \" + \"++addr \" + str(address))\n",
    "\n",
    "        \n",
    "def USB2GPIB_Slave_Address_Get(verbose=True):   # Prof. Andrés Roldán\n",
    "    \"\"\" \n",
    "    \n",
    "    Send ++addr \n",
    "    \"\"\"\n",
    "    \n",
    "    s.reset_input_buffer()\n",
    "    command_query = '++addr'\n",
    "    s.write(command_query.encode() + b'\\r\\n')\n",
    "    out = s.read(length_string_read)\n",
    "    \n",
    "    if verbose:\n",
    "        print(\"Leído=\" + str(out))\n",
    "    return(out)"
   ]
  },
  {
   "cell_type": "code",
   "execution_count": 10,
   "id": "professional-infection",
   "metadata": {},
   "outputs": [
    {
     "name": "stdout",
     "output_type": "stream",
     "text": [
      "Leído=b'ARDUINO GPIB firmware by E. Girlando Version 6.1\\r\\n'\n"
     ]
    },
    {
     "data": {
      "text/plain": [
       "b'ARDUINO GPIB firmware by E. Girlando Version 6.1\\r\\n'"
      ]
     },
     "execution_count": 10,
     "metadata": {},
     "output_type": "execute_result"
    }
   ],
   "source": [
    "# Identificamos al mediador\n",
    "Identify_USB2GPIB()"
   ]
  },
  {
   "cell_type": "code",
   "execution_count": 11,
   "id": "furnished-flesh",
   "metadata": {},
   "outputs": [
    {
     "name": "stdout",
     "output_type": "stream",
     "text": [
      "Enviado ++auto 0\n"
     ]
    }
   ],
   "source": [
    "# Configuramos el modo de no pregunta automático \"++AUTO 0\"\n",
    "USB2GPIB_AutoResponse_Set(auto_mode=0)"
   ]
  },
  {
   "cell_type": "code",
   "execution_count": 12,
   "id": "civil-detector",
   "metadata": {},
   "outputs": [
    {
     "name": "stdout",
     "output_type": "stream",
     "text": [
      "Leído=b'0\\r\\n'\n"
     ]
    },
    {
     "data": {
      "text/plain": [
       "b'0\\r\\n'"
      ]
     },
     "execution_count": 12,
     "metadata": {},
     "output_type": "execute_result"
    }
   ],
   "source": [
    "# Preguntamos por la configuración del modo de pregunta automático \"++AUTO\"\n",
    "USB2GPIB_AutoResponse_Get()"
   ]
  },
  {
   "cell_type": "code",
   "execution_count": 13,
   "id": "desperate-conducting",
   "metadata": {},
   "outputs": [
    {
     "name": "stdout",
     "output_type": "stream",
     "text": [
      "Enviado ++addr 10\n"
     ]
    }
   ],
   "source": [
    "# Configuramos la dirección del SLAVE GPIB a 10 en byte pero cada caracter.\n",
    "Generator_HP33120A_Address = 10  # Dirección del equipo. Aparece al encerder la fuente.\n",
    "USB2GPIB_Slave_Address_Set(Generator_HP33120A_Address, verbose=True)"
   ]
  },
  {
   "cell_type": "code",
   "execution_count": 27,
   "id": "double-dryer",
   "metadata": {},
   "outputs": [
    {
     "data": {
      "text/plain": [
       "b'10\\r\\n'"
      ]
     },
     "execution_count": 27,
     "metadata": {},
     "output_type": "execute_result"
    }
   ],
   "source": [
    "# Leemos la dirección del SLAVE GPIB\n",
    "USB2GPIB_Slave_Address_Get(verbose=False)"
   ]
  },
  {
   "cell_type": "markdown",
   "id": "57b6cdbc-24da-4a6c-9133-8d4f1ac6bb41",
   "metadata": {},
   "source": [
    "# Clase para manejar el generador. Implementación de la biblioteca\n"
   ]
  },
  {
   "cell_type": "code",
   "execution_count": 3,
   "id": "9e4fed8f-476c-49cb-ac02-e4838cdf1d48",
   "metadata": {},
   "outputs": [],
   "source": [
    "# Repetimos estas sentencias del inicio para tener la configuración a mano\n",
    "\n",
    "import serial\n",
    "import time\n",
    "\n",
    "# port_USB2GPIB = 'COM3'  # En Windows = COMX, siendo X={1, 2, ...}\n",
    "port_USB2GPIB = '/dev/ttyUSB1'  # En Linux: /dev/ttyUSBX, siendo X = {0, 1, ...}\n",
    "timeout = 0.5  # Timeout global, segundos\n",
    "\n",
    "s = serial.Serial(port_USB2GPIB,        # Puerto\n",
    "                  115200,               # Baudios  \n",
    "                  serial.EIGHTBITS,     # Payload de 8 bits\n",
    "                  serial.PARITY_NONE,   # Sin paridad\n",
    "                  serial.STOPBITS_ONE,  # 1 bit de parada\n",
    "                  timeout=timeout,      # tiempo de dropout\n",
    "                  rtscts=False)         # Señales RTS->CTS"
   ]
  },
  {
   "cell_type": "markdown",
   "id": "15889aa9-ce64-41de-bfd3-dece9c844ab4",
   "metadata": {},
   "source": [
    "## USB2GPIB: Comandos para el mediador\n",
    "\n",
    "Sencilla clase que contiene funciones de configuración para el mediador. Uso de comandos \"++\". No están implementados todos los comandos disponibles, tan sólo los principales para poder acceder al esclavo GPIB."
   ]
  },
  {
   "cell_type": "code",
   "execution_count": 4,
   "id": "a66e58d8-8d37-423d-8ab1-52af5afabca0",
   "metadata": {},
   "outputs": [],
   "source": [
    "class USB2GPIB:\n",
    "    \"\"\"\n",
    "    Colección de métodos para comunicarse con el mediador USB2GPIB. Arduino con \n",
    "    firmware \"Arduino UNO as a USB to GPIB adapter / controller\" v6.1 de \n",
    "    Emanuele Girlando.\n",
    "    \n",
    "    Implementación inicial por Andrés Roldán Aranda (v01, 30/09/2021) \n",
    "    Reescrito y expandido por Juan del Pino Mena (v02, 31/01/2022)\n",
    "    \"\"\"\n",
    "    \n",
    "    def __init__(self, length_string_read=100):\n",
    "        \"\"\"\n",
    "        Constructor.\n",
    "        :param length_string_read: longitud de caracteres a leer del buffer. Por\n",
    "            defecto 100.\n",
    "        :type length_string_read int \n",
    "        \"\"\"\n",
    "        self.length_string_read = length_string_read\n",
    "    \n",
    "    def _send(self, cmd, verbose=True):\n",
    "        \"\"\"\n",
    "        Envío de mensajes al mediador. Resetea el buffer en cada llamada.\n",
    "        :param cmd: comando a enviar\n",
    "        :type cmd str\n",
    "        \"\"\"\n",
    "        s.reset_input_buffer()  # reset del buffer\n",
    "        s.write(cmd.encode() + b'\\r\\n')  # comando + caracteres de parada, bytes\n",
    "        if verbose:\n",
    "            print(f\"Sent: {cmd}\")\n",
    "        \n",
    "    def _read(self, verbose=True):\n",
    "        \"\"\"\n",
    "        Recepción de mensajes del mediador.\n",
    "        :returns out: mensaje captado.\n",
    "        :type out str\n",
    "        \"\"\"\n",
    "        out = s.read(self.length_string_read)  # lee del buffer serial\n",
    "        if verbose:\n",
    "            print(f\"Read: {str(out)}\")\n",
    "        return out\n",
    "    \n",
    "    def identify(self, verbose=True):\n",
    "        \"\"\" \n",
    "        Identificar al intermediario\n",
    "        Read ++ver\n",
    "        \"\"\"\n",
    "        cmd = \"++ver\"\n",
    "        self._send(cmd, verbose)\n",
    "        return self._read(verbose)\n",
    "\n",
    "    def set_auto_response(self, auto_mode=0, verbose=True):\n",
    "        \"\"\" \n",
    "        Envío de comando para establecer la respuesta automática del mediador y\n",
    "        no tener que hacer un ++read por cada comando enviado.\n",
    "        Send ++auto <auto_mode>\n",
    "        :param mode: parámetro para el comando, por defecto auto_mode=0\n",
    "        \"\"\"\n",
    "        cmd = f\"++auto {auto_mode}\"\n",
    "        self._send(cmd, verbose)\n",
    "       \n",
    "    def get_auto_response(self, verbose=True):\n",
    "        \"\"\" \n",
    "        Pregunta al mediador por su estado de AutoResponse.\n",
    "        Send ++auto\n",
    "        \"\"\"\n",
    "        cmd = \"++auto\"\n",
    "        self._send(cmd, verbose)\n",
    "        return self._read(verbose)      \n",
    "            \n",
    "    def set_slave_address(self, address, verbose=True):\n",
    "        \"\"\" \n",
    "        Establece la dirección del esclavo (el generador de señal).\n",
    "        Send ++addr Address\n",
    "        :param address: dirección del equipo esclavo a comunicar por GPIB.\n",
    "        \"\"\"\n",
    "        cmd = f\"++addr {str(address)}\"\n",
    "        self._send(cmd, verbose)\n",
    "\n",
    "    def get_slave_address(self, verbose=True):\n",
    "        \"\"\" \n",
    "        Consulta la dirección del esclavo\n",
    "        Send ++addr \n",
    "        \"\"\"\n",
    "        cmd = \"++addr\"\n",
    "        self._send(cmd, verbose)\n",
    "        return self._read(verbose)"
   ]
  },
  {
   "cell_type": "markdown",
   "id": "a458806c-0671-4bb5-ba74-137d5eb3c250",
   "metadata": {},
   "source": [
    "### Ejemplo de uso\n",
    "\n",
    "Inicializamos la clase. Identificamos al dispositivo y establecemos el tipo de respuesta, así como la dirección del esclavo al que queremos enviar órdenes."
   ]
  },
  {
   "cell_type": "code",
   "execution_count": 5,
   "id": "f621eac0-a51d-49bb-aa8b-0879811c5fe8",
   "metadata": {},
   "outputs": [
    {
     "name": "stdout",
     "output_type": "stream",
     "text": [
      "Sent: ++ver\n",
      "Read: b'ARDUINO GPIB firmware by E. Girlando Version 6.1\\r\\n'\n",
      "Sent: ++auto 0\n",
      "Sent: ++addr 10\n",
      "Sent: ++auto\n",
      "Read: b'0\\r\\n'\n",
      "Sent: ++addr\n",
      "Read: b'10\\r\\n'\n"
     ]
    },
    {
     "data": {
      "text/plain": [
       "b'10\\r\\n'"
      ]
     },
     "execution_count": 5,
     "metadata": {},
     "output_type": "execute_result"
    }
   ],
   "source": [
    "Mediador = USB2GPIB()\n",
    "Mediador.identify()\n",
    "\n",
    "Mediador.set_auto_response(auto_mode=0)\n",
    "Mediador.set_slave_address(address=10)\n",
    "\n",
    "Mediador.get_auto_response()\n",
    "Mediador.get_slave_address()"
   ]
  },
  {
   "cell_type": "markdown",
   "id": "75f773bc-87a8-43fe-add3-03a2367bd15d",
   "metadata": {},
   "source": [
    "## HP33120A: Comandos para la fuente de señal.\n",
    "\n",
    "Contiene funciones para configurar el generador HP33120A a través del mediador. No contiene todos los comandos posibles del dispositivo, sino que está enfocada al envío de muestras para generar una señal arbitraria."
   ]
  },
  {
   "cell_type": "code",
   "execution_count": 143,
   "id": "26ef9480-fa15-4677-923f-e70cf4ee105a",
   "metadata": {},
   "outputs": [],
   "source": [
    "import time"
   ]
  },
  {
   "cell_type": "code",
   "execution_count": 1,
   "id": "prescription-scanning",
   "metadata": {},
   "outputs": [],
   "source": [
    "class HP33120A:\n",
    "    \"\"\"\n",
    "    Funciones del generador HP33120A\n",
    "    \n",
    "    Implementación inicial por Andrés Roldán Aranda (v01, 30/09/2021) \n",
    "    Reescrito y expandido por Juan del Pino Mena (v02, 31/01/2022)\n",
    "    \n",
    "    NOTA: Los métodos de esta clase esperan que la comunicación se realize por\n",
    "    serial, siendo necesario un intermediario tipo USB 2 GPIB.\n",
    "    Para comunicarse con cada equipo conectado se debe especificar primero la \n",
    "    dirección correspondiente al mediador.\n",
    "    \"\"\"\n",
    "    \n",
    "    def __init__(self, length_string_read=100):\n",
    "        \"\"\"\n",
    "        Constructor.\n",
    "        :param length_string_read: longitud de caracteres a leer del buffer. Por\n",
    "            defecto 100.\n",
    "            \n",
    "        Este parámetro afecta a los comandos demasiado extensos como por ejemplo\n",
    "        el envío de muestras de señal.\n",
    "        :type length_string_read int\n",
    "        \"\"\"\n",
    "        self.length_string_read = length_string_read\n",
    "    \n",
    "    def _send(self, cmd, verbose=True):\n",
    "        \"\"\"\n",
    "        Envío de mensajes al mediador. Resetea el buffer en cada llamada.\n",
    "        :param cmd: comando a enviar\n",
    "        :type cmd str\n",
    "        \"\"\"\n",
    "        s.reset_input_buffer()  # reset del buffer\n",
    "        s.write(cmd.encode() + b'\\r\\n')  # comando + caracteres de parada, en bytes\n",
    "        if verbose:\n",
    "            print(f\"Sent: {cmd}\")\n",
    "        \n",
    "    def _read(self, verbose=True):\n",
    "        \"\"\"\n",
    "        Recepción de mensajes del mediador.\n",
    "        :returns out: mensaje captado.\n",
    "        :type out str\n",
    "        \"\"\"\n",
    "        s.write(b'++read\\r\\n')\n",
    "        out = s.read(self.length_string_read)  # lee del buffer serial\n",
    "        if verbose:\n",
    "            print(f\"Read: {str(out)}\")\n",
    "        return out\n",
    "    \n",
    "    # SYSTEM COMMANDS\n",
    "    # Funciones del sistema. Gestión, consultas, reset.\n",
    "    \n",
    "    def reset(self, verbose=True):\n",
    "        \"\"\" \n",
    "        Comando de Reset al generador de señal.\n",
    "        Send *RST \n",
    "        Página 190 del manual\n",
    "        \"\"\"\n",
    "        cmd = \"*RST\"\n",
    "        self._send(cmd, verbose)\n",
    "    \n",
    "    def identify(self, verbose=True):\n",
    "        \"\"\"\n",
    "        Identificación del generador\n",
    "        Send *IDN?\n",
    "        Página 190 del manual\n",
    "        \"\"\"\n",
    "        cmd = \"*IDN?\"\n",
    "        self._send(cmd, verbose)\n",
    "        return self._read()\n",
    "\n",
    "    def version(self, verbose=True):\n",
    "        \"\"\"\n",
    "        Versión del generador\n",
    "        Send SYSTem:VERSion?  \n",
    "        Página 190 del manual\n",
    "        \"\"\"\n",
    "        cmd = \"SYSTem:VERSion?\"\n",
    "        self._send(cmd, verbose)\n",
    "        return self._read()\n",
    "    \n",
    "    def error(self, verbose=True):\n",
    "        \"\"\"\n",
    "        Leer de la pila de errores. Es una pila FIFO.\n",
    "        Send SYSTem:ERRor?\n",
    "        Página 110 del manual\n",
    "        \"\"\"\n",
    "        cmd = \"SYSTem:ERRor?\"\n",
    "        self._send(cmd, verbose)\n",
    "        return self._read()\n",
    "    \n",
    "    # OUTPUT WAVEFORM COMMANDS\n",
    "    # Funciones para variar las condiciones de salida: amplitud, frecuencia, \n",
    "    # offset y carga.\n",
    "    \n",
    "    def set_amplitude(self, vpp, verbose=True):\n",
    "        \"\"\"\n",
    "        Voltaje pico-pico de la señal (el doble de la amplitud). Se debe \n",
    "        ajustar el valor de la carga a la salida para tener el valor deseado.\n",
    "        Send VOLT <vpp>\n",
    "        Página 148 del manual\n",
    "        \"\"\"\n",
    "        cmd = f\"VOLT {vpp}\"\n",
    "        self._send(cmd, verbose)\n",
    "    \n",
    "    def set_frequency(self, freq, verbose=True):\n",
    "        \"\"\"\n",
    "        Frecuencia de la señal. En señales arbitrarias NO es la frecuencia de \n",
    "        muestreo sino la de repetición de la señal completa.\n",
    "        Úsese la función adjunta para \n",
    "        Send FREQ <freq>\n",
    "        Página 146 del manual.\n",
    "        \"\"\"\n",
    "        cmd = f\"FREQ {freq}\"\n",
    "        self._send(cmd, verbose)\n",
    "    \n",
    "    def set_offset(self, offset, verbose=True):\n",
    "        \"\"\"\n",
    "        Send VOLT:OFFS\n",
    "        Página 149 del manual\n",
    "        \"\"\"\n",
    "        cmd = f\"VOLT:OFFS {offset}\"\n",
    "        self._send(cmd, verbose)\n",
    "        \n",
    "    def set_output_load(self, load, verbose=True):\n",
    "        \"\"\"\n",
    "        Send OUTP:LOAD <load>\n",
    "        Opciones de load:\n",
    "        {50|INF}\n",
    "        \"\"\"\n",
    "        cmd = f\"OUTP:LOAD {load}\"\n",
    "        self._send(cmd, verbose)\n",
    "    \n",
    "    def set_output_waveform(self, func, verbose=True):\n",
    "        \"\"\"\n",
    "        Send FUNC:SHAP <func>\n",
    "        Página 145 del manual\n",
    "        SIN, SQU, TRI, RAMP, NOIS, DC\n",
    "        \"\"\"\n",
    "        cmd = f\"FUNC:SHAP {func}\"\n",
    "        self._send(cmd, verbose)\n",
    "    \n",
    "    def get_output_waveform(self, verbose=True):\n",
    "        \"\"\"\n",
    "        Send FUNC:SHAP?\n",
    "        \"\"\"\n",
    "        cmd = f\"FUNC:SHAP?\"\n",
    "        self._send(cmd, verbose)\n",
    "        return self._read(verbose)\n",
    "    \n",
    "    def get_output_parameters(self, verbose=True):\n",
    "        \"\"\"\n",
    "        Send APPLy?\n",
    "        \"\"\"\n",
    "        cmd = \"APPLy?\"\n",
    "        self._send(cmd, verbose)\n",
    "        return self._read(verbose)\n",
    "    \n",
    "    # BURST COMMANDS\n",
    "    # Para generar dos funciones sincronizadas el trigger no es necesario, sino\n",
    "    # usar una modulación de ráfaga\n",
    "    \n",
    "    def enable_burst(self, mode : str, verbose=True):\n",
    "        \"\"\"\n",
    "        Send BM:STATe {OFF|ON}\n",
    "        \n",
    "        Página 84 del manual\n",
    "        Set up other modulation after setting other burst modulation\n",
    "        \"\"\"\n",
    "        cmd = f\"BM:STATe {mode}\"\n",
    "        self._send(cmd, verbose)\n",
    "        \n",
    "    def set_burst_count(self, count : int, verbose=True):\n",
    "        \"\"\"\n",
    "        Send BM:NCYC\n",
    "        \n",
    "        Página 81 del manual\n",
    "        \"\"\"\n",
    "        cmd = f\"BM:NCYC {count}\"\n",
    "    \n",
    "    # TRIGGER COMMANDS\n",
    "    \n",
    "    def set_trigger_source(self, mode : str, verbose=True):\n",
    "        \"\"\"\n",
    "        Send TRIGger:SOURce <EXTernal|IMMediate|BUS>\n",
    "        \"\"\"\n",
    "        cmd = f\"TRIGger:SOURce {mode}\"\n",
    "        self._send(cmd, verbose)\n",
    "    \n",
    "    def get_trigger_source(self, verbose=True):\n",
    "        \"\"\"\n",
    "        Send TRIGger:SOURce?\n",
    "        \"\"\"\n",
    "        cmd = f\"TRIGger:SOURce?\"\n",
    "        self._send(cmd, verbose)\n",
    "        return self._read(verbose)\n",
    "    \n",
    "    # ARBITRARY FUNCTION COMMANDS\n",
    "    # Funciones de gestión de funciones arbitrarias.\n",
    "    \n",
    "    def arb_download_format_border(self, border, verbose=True):\n",
    "        \"\"\"\n",
    "        Selecciona el orden de los bits para la transferencia de datos binarios.\n",
    "        Send FORM:BORD {NORM|SWAP}\n",
    "        NORM: Se envía antes el bit más significativo (MSB). Por defecto.\n",
    "        SWAP: Se envía antes el bit menos significativo (LSB).\n",
    "        Es probable que se deba usar esta función para cambiar a SWAP, el manual\n",
    "        indica que muchos PCs usan el formato LSB-first.\n",
    "        Página 180, 185 del manual.\n",
    "        \n",
    "        :param border: tipo de transferencia. dos opciones: \n",
    "            \"NORM\": MSB-first; \"SWAP\": LSB-first.\n",
    "        :type border str\n",
    "        \"\"\"\n",
    "        border = border.upper()\n",
    "        if border != \"NORM\" or border != \"SWAP\":\n",
    "            raise ValueError(\"Format border type must be 'NORM' or 'SWAP'.\")\n",
    "        cmd = \"FORM:BORD {border}\"\n",
    "        self._send(cmd, verbose)        \n",
    "    \n",
    "    def arb_download_binary_to_volatile(self, samples, verbose=True):\n",
    "        \"\"\"\n",
    "        NOTA: NO FUNCIONA. Última modificación: 1/03/22.\n",
    "        - [ ] Parece que el formato de binario usado no es el adecuado.\n",
    "        - [ ] Es necesario enviar los datos en chunks para no saturar el buffer.\n",
    "        \n",
    "        \n",
    "        Envío de muestras de una señal arbitaria. Esta función envía las \n",
    "        muestras en binario para acelerar la transmisión:\n",
    "        \n",
    "        [16000 muestras por HP-IB (GPIB), en coma flotante: 100 segundos]\n",
    "        [16000 muestras por HP-IB (GPIB), en entero: 51 segungos]\n",
    "        [16000 muestras por HP-IB (GPIB), en binario: 8 segungos]\n",
    "        En RS-232 los tiempos son mayores. Página 2 del manual.\n",
    "        \n",
    "        Send DATA:DAC VOLATILE, #XN <binary data>\n",
    "        Siendo #: el carácter de comienzo del bloque de datos binarios, \n",
    "               X: el número de dígitos a continuación (nº dígitos de N),\n",
    "               N: el número de bytes a enviar. Es igual a dos veces el número de \n",
    "                    muestras de la señal: cada muestra ocupará 2 bytes: 12 bits\n",
    "                    por muestra y los 4 bits restantes se rellenan con ceros.\n",
    "        Estos parámetros son calculados automáticamente por esta función.\n",
    "        Por ejemplo, para transmitir 16000 muestras, se envía el mensaje:\n",
    "            b\"DATA:DAC VOLATILE, #532000 <binary data>\"\n",
    "        \n",
    "        Se sobrescribirá cualquier señal que haya en la memoria volátil.\n",
    "        Página 174, 179, 180 del manual\n",
    "        \n",
    "        :param samples: vector de muestras. Se espera que sea una lista o tupla\n",
    "            de muestras PRE-CONVERTIDAS A BINARIO. Usar para ello la función\n",
    "            adjunta samples_to_bin(). Vector de longitud entre 8 y 16000.\n",
    "        :type samples list, tuple\n",
    "        \"\"\"\n",
    "        # Comprobación de los valores\n",
    "        L = len(samples)\n",
    "        if L < 8 or L > 16000:\n",
    "            raise ValueError(\"El número de muestras debe ser entre 8 y 16000.\"\n",
    "                             f\" La longitud del vector es {L}.\")\n",
    "        if type(samples[0]) is not bytes:\n",
    "            raise TypeError(\"Las muestras de la señal deben estar en binario.\")\n",
    "        \n",
    "        # Preparación de datos para la transferencia\n",
    "        N = L * 2  # nº de bytes a enviar\n",
    "        X = len(str(N)) # nº dígitos del nº de bytes\n",
    "        cmd = f\"DATA:DAC VOLATILE, #{X}{N} \"\n",
    "        #cmd = cmd.encode()\n",
    "        for item in samples:\n",
    "            cmd += item.decode(\"latin1\")\n",
    "        \n",
    "        cmd = cmd.encode()\n",
    "        # Transferencia (puede llevar un rato).\n",
    "        if verbose:\n",
    "            print(\"Sending data, please wait.\")\n",
    "        s.reset_input_buffer()  # reset del buffer\n",
    "        s.write(cmd + b'\\r\\n')  # comando + caracteres de parada, en bytes\n",
    "        \n",
    "        if verbose:\n",
    "            print(f\"Sent: DATA:DAC VOLATILE, #{X}{N} <samples>\")\n",
    "    \n",
    "    def arb_download_to_volatile(self, samples, verbose=True):\n",
    "        \"\"\"\n",
    "        NOTA: NO FUNCIONA. Última modificación: 1/03/22.\n",
    "        - Sí funciona para enviar pocas muestras, pero cuando se llena el buffer\n",
    "          da error --> Implementar envío por chunks [hecho]\n",
    "        - Eso no soluciona el problema: \n",
    "          Da un error de -103,\"Invalid separator\" al final del todo del envío \n",
    "          del vector de muestras aún con el envío por chunks. Al leer el \"\\r\\n\" \n",
    "          que indica el fin de comando da el error.\n",
    "          \n",
    "        \n",
    "        Envío de muestras de una señal arbitraria a la memoria RAM. Esta función\n",
    "        envía las muestras en número entero ó coma flotante.\n",
    "        [16000 muestras por HP-IB (GPIB), en entero: 51 segungos]\n",
    "        En RS-232 los tiempos son mayores. Página 2 del manual.\n",
    "        \n",
    "        Send DATA:DAC VOLATILE, <signed int list separated by comma>\n",
    "        Página 174, 179, 180 del manual.\n",
    "        \n",
    "        Se espera una lista de datos de longitud entre 8 y 16000 muestras, de \n",
    "        entero con signo y no mayores al límite de 12 bits del equipo:\n",
    "        La amplitud máxima de la señal corresponde a la muestra con valor 2047.\n",
    "        La amplitud mínima a la muestra con valor -2048.\n",
    "        \n",
    "        :param samples: vector de muestras. Se espera que sea una lista o tupla\n",
    "            de muestras en entero con signo. Vector de longitud entre 8 y 16000.\n",
    "        :type samples list, tuple\n",
    "        \"\"\"\n",
    "        # Comprobación de los valores\n",
    "        L = len(samples)\n",
    "        if L < 8 or L > 16000:\n",
    "            raise ValueError(\"El número de muestras debe ser entre 8 y 16000. \"\n",
    "                             f\"La longitud del vector es {L}.\")\n",
    "        maximo = max(samples)\n",
    "        if maximo > 2047:\n",
    "            raise ValueError(f\"El valor de las muestras no debe exceder 2047. \"\n",
    "                             f\"El valor máximo es: {maximo} en la posición \"\n",
    "                             f\"{samples.index(maximo)}\")\n",
    "        minimo = min(samples)\n",
    "        if minimo < -2048:\n",
    "            raise ValueError(f\"El valor de las muestras no debe ser menor de \"\n",
    "                             f\"-2048. El valor mínimo es: {minimo} en la\"\n",
    "                             f\"posición {samples.index(minimo)}\")\n",
    "        \n",
    "        # Preparación de datos para la transferencia\n",
    "        cmd = \"DATA:DAC VOLATILE, \"\n",
    "        for item in samples:\n",
    "            cmd += str(item) + \",\"\n",
    "        cmd = cmd[0:-1]  # removes final comma\n",
    "        cmd = cmd.encode() + b\"\\r\\n\"\n",
    "        \n",
    "        # Transferencia (puede llevar un rato).\n",
    "        if verbose:\n",
    "            print(\"Sending data, please wait.\")\n",
    "            \n",
    "        \n",
    "        limit = 64  # buffer del mediador\n",
    "        sleep_time = 4  # seconds to sleep\n",
    "                \n",
    "        s.reset_input_buffer()  # reset del buffer\n",
    "        s.reset_output_buffer()\n",
    "        \n",
    "        longitud = len(cmd)\n",
    "        if longitud >= limit:\n",
    "            iterations = int(longitud / limit)\n",
    "            restante = longitud % limit\n",
    "            \n",
    "            if verbose:\n",
    "                print(f\"Data is long: {longitud} chars. Slicing it into \"\n",
    "                      f\"{iterations} chunks of length {limit} characters.\")\n",
    "            \n",
    "            for i in range(iterations):\n",
    "                chunk = cmd[i*limit:(i+1)*limit]\n",
    "                print(f\"iter: {i}: sent: {str(chunk)}\")\n",
    "                s.write(chunk)  # escribe en chunks\n",
    "                print(f\"done. sleep {sleep_time}\")\n",
    "                time.sleep(sleep_time)  # wait sleep_time seconds before sending more samples\n",
    "                \n",
    "            if restante:  # si queda algo que escribir\n",
    "                chunk = cmd[(i+1)*limit:]\n",
    "                print(f\"iter adicional: {i+1}: sent: {str(chunk)}\")\n",
    "                s.write(chunk)\n",
    "                print(f\"DONE.\")\n",
    "                \n",
    "        else:\n",
    "            s.write(cmd)\n",
    "            if verbose:\n",
    "                print(cmd)\n",
    "        \n",
    "    def arb_copy_to_non_volatile(self, arb_name, verbose=True):\n",
    "        \"\"\"\n",
    "        Copia las muestras de una función descargada a la memoria volátil a la \n",
    "        memoria no volátil. Siempre se copia los datos de la memoria volátil a \n",
    "        una región de la memoria no volátil, que se identifica mediante el \n",
    "        nombre puesto a la señal.\n",
    "        Sobrescribirá cualquier función guardada con el mismo nombre, excepto\n",
    "        las funciones built-in, que no se pueden sobrescribir.  \n",
    "        Send DATA:COPY <arb_name>\n",
    "        Página 182 del manual\n",
    "        \n",
    "        :param arb_name: nombre de la función a guardar en memoria. El nombre de\n",
    "        la función identifica a las muestras. Debe ser de máximo 8 caracteres, \n",
    "        debe comenzar por una letra. Puede contener números y barra baja ('_'). \n",
    "        No es sensible a mayúsculas.\n",
    "        :type arb_name str\n",
    "        \"\"\"\n",
    "        cmd = f\"DATA:COPY {arb_name}\"\n",
    "        self._send(cmd, verbose)\n",
    "    \n",
    "    def arb_list_waveforms(self, verbose=True):\n",
    "        \"\"\"\n",
    "        Lista el nombre de las funciones arbitrarias seleccionables.\n",
    "        Send DATA:CAT?\n",
    "        Página 176 del manual\n",
    "        \"\"\"\n",
    "        cmd = \"DATA:CAT?\"\n",
    "        self._send(cmd, verbose)\n",
    "        return self._read(verbose)\n",
    "    \n",
    "    def arb_del_waveform(self, arb_name, verbose=True):\n",
    "        \"\"\"\n",
    "        Elimina una función arbitraria. Las built-in no se pueden eliminar. \n",
    "        Puede usarse para borrar el contenido guardado en la memoria volátil.\n",
    "        Send DATA:DEL <arb_name>\n",
    "        Página 183 del manual\n",
    "        \n",
    "        :param arb_name: nombre de la función en memoria, o bien \"VOLATILE\".\n",
    "        :type arb_name str\n",
    "        \"\"\"\n",
    "        cmd = f\"DATA:DEL {arb_name}\"\n",
    "        self._send(cmd, verbose)\n",
    "    \n",
    "    def arb_set_waveform(self, arb_name, verbose=True):\n",
    "        \"\"\"\n",
    "        Selección de la onda arbitraria que generar a la salida. No genera la \n",
    "        onda a la salida, sólo la selecciona. Para habilitar la salida, se debe\n",
    "        usar el método .arb_output_waveform().\n",
    "        \n",
    "        Send FUNC:USER {<arb_name>|VOLATILE}\n",
    "        Donde VOLATILE especifica que se seleccione aquella señal cargada en la \n",
    "        memoria RAM. <arb_name> es el nombre de una señal almacenada. Puede ser \n",
    "        cualquiera de las opciones listadas con .arb_list_waveforms().\n",
    "        Página 175, 176 del manual\n",
    "        \n",
    "        :param arb_name: nombre de la función en memoria, o bien \"VOLATILE\".\n",
    "        :type arb_name str\n",
    "        \"\"\"\n",
    "        cmd = f\"FUNC:USER {arb_name}\"\n",
    "        self._send(cmd, verbose)\n",
    "        \n",
    "    def arb_get_waveform(self, verbose=True):\n",
    "        \"\"\"\n",
    "        Send FUNC:USER?\n",
    "        \"\"\"\n",
    "        cmd = f\"FUNC:USER?\"\n",
    "        self._send(cmd, verbose)\n",
    "        return self._read(verbose)\n",
    "    \n",
    "    def arb_set_output_waveform(self, verbose=True):\n",
    "        \"\"\"\n",
    "        Generar la onda seleccionada.\n",
    "        Send FUNC:SHAP USER\n",
    "        Página 175, 177 del manual\n",
    "        \"\"\"\n",
    "        cmd = f\"FUNC:SHAP USER\"\n",
    "        self._send(cmd, verbose)"
   ]
  },
  {
   "cell_type": "markdown",
   "id": "5cd46a31-8966-4e86-ab4b-b2478893cf25",
   "metadata": {},
   "source": [
    "### Ejemplo de uso.\n",
    "\n",
    "Inicializamos la clase. Identificamos al esclavo y su versión del software. Realizamos un reset."
   ]
  },
  {
   "cell_type": "code",
   "execution_count": 327,
   "id": "2f9ddf4e-0ddf-4097-8b0e-9ece77593ea1",
   "metadata": {},
   "outputs": [],
   "source": [
    "Generador = HP33120A()"
   ]
  },
  {
   "cell_type": "code",
   "execution_count": 319,
   "id": "e877221a-6b25-4124-8410-45c6bc3b4510",
   "metadata": {},
   "outputs": [
    {
     "name": "stdout",
     "output_type": "stream",
     "text": [
      "Sent: ++addr 10\n",
      "Sent: *IDN?\n",
      "Read: b'HEWLETT-PACKARD,33120A,0,7.0-5.0-1.0\\n'\n",
      "Sent: SYSTem:VERSion?\n",
      "Read: b'1993.0\\n'\n"
     ]
    },
    {
     "data": {
      "text/plain": [
       "b'1993.0\\n'"
      ]
     },
     "execution_count": 319,
     "metadata": {},
     "output_type": "execute_result"
    }
   ],
   "source": [
    "# Generador con dirección 10, marcado con un 1 en la etiqueta\n",
    "# Generador que estaba ya en el laboratorio de GranaSat\n",
    "Mediador.set_slave_address(address=10)  # Generador 1\n",
    "Generador.identify()\n",
    "Generador.version()"
   ]
  },
  {
   "cell_type": "code",
   "execution_count": 60,
   "id": "9839e3b8-63af-4c42-8218-3ce952005957",
   "metadata": {},
   "outputs": [
    {
     "name": "stdout",
     "output_type": "stream",
     "text": [
      "Sent: ++addr 4\n",
      "Sent: *IDN?\n",
      "Read: b'HEWLETT-PACKARD,33120A,0,7.0-2.0-1.0\\n'\n",
      "Sent: SYSTem:VERSion?\n",
      "Read: b'1993.0\\n'\n"
     ]
    },
    {
     "data": {
      "text/plain": [
       "b'1993.0\\n'"
      ]
     },
     "execution_count": 60,
     "metadata": {},
     "output_type": "execute_result"
    }
   ],
   "source": [
    "# Generador con dirección 4, marcado con un 2 en la etiqueta\n",
    "# Generador que estaba en la facultad de ciencias\n",
    "Mediador.set_slave_address(address=4)  # Generador 2\n",
    "Generador.identify()\n",
    "Generador.version()"
   ]
  },
  {
   "cell_type": "code",
   "execution_count": 61,
   "id": "6f866d85-718c-4308-9146-650f22735888",
   "metadata": {},
   "outputs": [
    {
     "name": "stdout",
     "output_type": "stream",
     "text": [
      "Sent: ++addr 4\n",
      "Sent: *RST\n",
      "Sent: OUTP:LOAD INF\n",
      "Sent: FUNC:SHAP SQU\n",
      "Sent: VOLT 1 VPP\n",
      "Sent: VOLT:OFFS 0\n",
      "Sent: FREQ 10000.0\n",
      "Sent: APPLy?\n",
      "Read: b''\n"
     ]
    },
    {
     "data": {
      "text/plain": [
       "b''"
      ]
     },
     "execution_count": 61,
     "metadata": {},
     "output_type": "execute_result"
    }
   ],
   "source": [
    "# Configurar el 2 para generar una señal de 10 kHz cuadrada, y por el puerto \n",
    "# sync emitirá el trigger que usa como trigger externo el generador 1\n",
    "\n",
    "Mediador.set_slave_address(address=4)  # Generador 2\n",
    "Generador.reset()  # Reset\n",
    "Generador.set_output_load(\"INF\", verbose=True)  # High Z\n",
    "Generador.set_output_waveform(\"SQU\", verbose=True)  # Cuadrada\n",
    "Generador.set_amplitude(\"1 VPP\", verbose=True)  # 1 Vpp\n",
    "Generador.set_offset(0, verbose=True)  # Sin offset\n",
    "Generador.set_frequency(10e3, verbose=True)  # 10 kHz\n",
    "Generador.get_output_parameters(verbose=True)"
   ]
  },
  {
   "cell_type": "code",
   "execution_count": 62,
   "id": "15f4092d-4ea3-4109-8271-100e61085a67",
   "metadata": {},
   "outputs": [
    {
     "name": "stdout",
     "output_type": "stream",
     "text": [
      "Sent: ++addr 10\n",
      "Sent: *RST\n",
      "Sent: OUTP:LOAD INF\n",
      "Sent: FUNC:SHAP SQU\n",
      "Sent: VOLT 1 VPP\n",
      "Sent: VOLT:OFFS 0\n",
      "Sent: FREQ 100000.0\n",
      "Sent: BM:STATe ON\n",
      "Sent: TRIGger:SOURce EXTernal\n"
     ]
    }
   ],
   "source": [
    "# Configurar el 1 para aceptar el trigger del generador 2, y produce un pulso de\n",
    "# 100 kHz en cada pulso de señal cuadrada del generador 2.\n",
    "\n",
    "Mediador.set_slave_address(address=10)  # Generador 1\n",
    "Generador.reset()  # Reset\n",
    "Generador.set_output_load(\"INF\", verbose=True)  # High Z\n",
    "Generador.set_output_waveform(\"SQU\", verbose=True)  # Cuadrada\n",
    "Generador.set_amplitude(\"1 VPP\", verbose=True)  # 1 Vpp\n",
    "Generador.set_offset(0, verbose=True)  # Sin offset\n",
    "Generador.set_frequency(100e3, verbose=True)  # 100 kHz\n",
    "\n",
    "Generador.enable_burst(mode=\"ON\")  # Activar el modo de ráfaga\n",
    "Generador.set_burst_count(count=1)  # Número de repeticiones de la señal\n",
    "Generador.set_trigger_source(mode=\"EXTernal\")  # Trigger externo"
   ]
  },
  {
   "cell_type": "code",
   "execution_count": 85,
   "id": "8183f422-34bb-4d57-aafa-79214e6b6f27",
   "metadata": {},
   "outputs": [
    {
     "name": "stdout",
     "output_type": "stream",
     "text": [
      "Sent: TRIGger:SOURce?\n",
      "Read: b'EXT\\n'\n",
      "Sent: APPLy?\n",
      "Read: b'\"SQU 1.000000000000E+05,+1.000000E+00,+0.000000E+00\"\\n'\n",
      "Sent: FUNC:SHAP?\n",
      "Read: b'SQU\\n'\n"
     ]
    },
    {
     "data": {
      "text/plain": [
       "b'SQU\\n'"
      ]
     },
     "execution_count": 85,
     "metadata": {},
     "output_type": "execute_result"
    }
   ],
   "source": [
    "Generador.get_trigger_source()  # Esperar un segundo antes de ejecutarlo\n",
    "Generador.get_output_parameters()\n",
    "Generador.get_output_waveform()"
   ]
  },
  {
   "cell_type": "markdown",
   "id": "254465da-8ac2-4e66-b61e-bccb21ad06b3",
   "metadata": {},
   "source": [
    "## Retardo del trigger externo\n",
    "\n",
    "Parece depender con la frecuencia: se hace más pequeño conforme aumenta la frecuencia.\n",
    "\n",
    "Con un trigger de 1 kHz y una señal triggereada de 10 kHz, el retardo suele rondar los 2 us, mientras que una señal de trigger de 10 kHz y triggereada de 100 kHz, es de 1.2 us.\n",
    "\n",
    "Es significativo para la señal de los árboles, dado que es comparable al periodo de muestreo."
   ]
  },
  {
   "cell_type": "markdown",
   "id": "6f7e5d6d-a6df-4b8a-8698-daa82e9968fd",
   "metadata": {},
   "source": [
    "## Señal arbitraria built-in"
   ]
  },
  {
   "cell_type": "code",
   "execution_count": 166,
   "id": "98137d93-4fdb-4aeb-92dd-741c0ba1828b",
   "metadata": {},
   "outputs": [
    {
     "name": "stdout",
     "output_type": "stream",
     "text": [
      "Sent: DATA:CAT?\n",
      "Read: b'\"SINC\",\"NEG_RAMP\",\"EXP_RISE\",\"EXP_FALL\",\"CARDIAC\",\"PRUEBA\"\\n'\n"
     ]
    },
    {
     "data": {
      "text/plain": [
       "b'\"SINC\",\"NEG_RAMP\",\"EXP_RISE\",\"EXP_FALL\",\"CARDIAC\",\"PRUEBA\"\\n'"
      ]
     },
     "execution_count": 166,
     "metadata": {},
     "output_type": "execute_result"
    }
   ],
   "source": [
    "Generador.arb_list_waveforms(verbose=True)"
   ]
  },
  {
   "cell_type": "code",
   "execution_count": 87,
   "id": "aec4fd3b-12ea-4f58-87fb-684b61af2356",
   "metadata": {},
   "outputs": [
    {
     "name": "stdout",
     "output_type": "stream",
     "text": [
      "Sent: FUNC:USER NEG_RAMP\n",
      "Sent: FUNC:SHAP USER\n"
     ]
    }
   ],
   "source": [
    "Generador.arb_set_waveform(arb_name=\"NEG_RAMP\")\n",
    "Generador.arb_set_output_waveform()"
   ]
  },
  {
   "cell_type": "code",
   "execution_count": 88,
   "id": "213eec30-900e-4d4e-be7d-38a50a93d1dc",
   "metadata": {},
   "outputs": [
    {
     "name": "stdout",
     "output_type": "stream",
     "text": [
      "Sent: FUNC:USER?\n",
      "Read: b'NEG_RAMP\\n'\n"
     ]
    },
    {
     "data": {
      "text/plain": [
       "b'NEG_RAMP\\n'"
      ]
     },
     "execution_count": 88,
     "metadata": {},
     "output_type": "execute_result"
    }
   ],
   "source": [
    "Generador.arb_get_waveform()"
   ]
  },
  {
   "cell_type": "markdown",
   "id": "29366c81-4dcf-46d7-bf1c-5ece3c7e84eb",
   "metadata": {},
   "source": [
    "## Envío de muestras de señal arbitraria por entero"
   ]
  },
  {
   "cell_type": "code",
   "execution_count": 328,
   "id": "4700ab76-8e51-457b-8752-c58190e62f2e",
   "metadata": {},
   "outputs": [
    {
     "name": "stdout",
     "output_type": "stream",
     "text": [
      "Frecuencia de muestreo: 392.196 kHz\n",
      "Tiempo máximo: 20.398 ms; Frecuencia de repetición de la señal: 49.000 Hz\n",
      "longitud de muestras: t2: 8000, emitter: 8000, receiver: 8000\n",
      "vmax,emitter: 7.221 V\n",
      "vmax,receiver: 69.039 mV\n"
     ]
    }
   ],
   "source": [
    "import numpy as np\n",
    "\n",
    "filename = \"samples/Arbol_42_original/Arbol_42_A1_1.csv\"\n",
    "t, ch_a, ch_b = np.loadtxt(filename, delimiter=',', unpack=True, skiprows=3)\n",
    "\n",
    "# Ajustes de unidades\n",
    "time_offset = 1e-3 * abs(t[1])  # offset para eliminar tiempo negativo\n",
    "t = t * 1e-3 + time_offset  # ms to s, empezar en t0 = 0\n",
    "ch_b = ch_b * 1e-3  # mV to V\n",
    "\n",
    "L = len(ch_a)\n",
    "Ts = t[-1] / L  # periodo de muestreo\n",
    "Fs = int(1/Ts)  # frecuencia de muestreo\n",
    "\n",
    "print(f\"Frecuencia de muestreo: {Fs/1e3:.3f} kHz\")\n",
    "\n",
    "sample_init = 2900\n",
    "sample_end = 10900\n",
    "sample_num = sample_end - sample_init\n",
    "\n",
    "t2 = np.arange(0, sample_num, 1) * Ts  # nuevo vector temporal\n",
    "tmax = sample_num * Ts  # tiempo máximo, final del vector\n",
    "freq_rep = int(1/tmax)  # frecuencia de repetición de la señal completa\n",
    "\n",
    "emitter = ch_a[sample_init:sample_end]\n",
    "receiver = ch_b[sample_init:sample_end]\n",
    "\n",
    "print(f\"Tiempo máximo: {tmax*1e3:.3f} ms; Frecuencia de repetición de la señal: {freq_rep:.3f} Hz\")\n",
    "print(f\"longitud de muestras: t2: {len(t2)}, emitter: {len(emitter)}, receiver: {len(receiver)}\")\n",
    "\n",
    "vmax_emitter = max(abs(emitter))\n",
    "vmax_receiver = max(abs(receiver))\n",
    "print(f\"vmax,emitter: {vmax_emitter:.3f} V\\nvmax,receiver: {vmax_receiver*1e3:.3f} mV\")"
   ]
  },
  {
   "cell_type": "code",
   "execution_count": 329,
   "id": "a610b2ff-343d-4e00-9a02-604e8d666572",
   "metadata": {},
   "outputs": [
    {
     "name": "stdout",
     "output_type": "stream",
     "text": [
      "Longitud: 8000, máximo: 1089, mínimo: -2047\n"
     ]
    }
   ],
   "source": [
    "emitter_sint = samples_to_signed_int(emitter, v_max=vmax_emitter)\n",
    "print(f\"Longitud: {len(emitter_sint)}, máximo: {max(emitter_sint)}, mínimo: {min(emitter_sint)}\")"
   ]
  },
  {
   "cell_type": "code",
   "execution_count": 330,
   "id": "ab63be18-9d73-4dea-a8ff-15301db03711",
   "metadata": {},
   "outputs": [
    {
     "name": "stdout",
     "output_type": "stream",
     "text": [
      "Longitud: 8000, máximo: 2047, mínimo: -1768\n"
     ]
    }
   ],
   "source": [
    "receiver_sint = samples_to_signed_int(receiver, v_max=vmax_receiver)\n",
    "print(f\"Longitud: {len(receiver_sint)}, máximo: {max(receiver_sint)}, mínimo: {min(receiver_sint)}\")"
   ]
  },
  {
   "cell_type": "code",
   "execution_count": 331,
   "id": "0a083381-ef0f-45cb-ad8f-73a0afee6e56",
   "metadata": {},
   "outputs": [
    {
     "name": "stdout",
     "output_type": "stream",
     "text": [
      "Sent: ++addr 4\n",
      "Sent: *RST\n"
     ]
    }
   ],
   "source": [
    "Mediador.set_slave_address(address=4)\n",
    "Generador.reset()\n",
    "s.reset_input_buffer()\n",
    "s.reset_output_buffer()"
   ]
  },
  {
   "cell_type": "code",
   "execution_count": 333,
   "id": "04c19cef-d6f4-47ff-a48c-8b111fdbf9c6",
   "metadata": {},
   "outputs": [
    {
     "name": "stdout",
     "output_type": "stream",
     "text": [
      "Sent: ++addr 4\n",
      "Sending data, please wait.\n",
      "Data is long: 21098 chars. Slicing it into 329 chunks of length 64 characters.\n",
      "iter: 0: sent: b'DATA:DAC VOLATILE, 3,3,0,1,0,-2,3,0,0,-27,-210,-451,-594,-646,-7'\n",
      "done. sleep 4\n",
      "iter: 1: sent: b'05,-858,-1062,-1234,-1359,-1459,-1564,-1685,-1793,-1849,-1891,-1'\n",
      "done. sleep 4\n",
      "iter: 2: sent: b'951,-2021,-2047,-1996,-1905,-1817,-1746,-1655,-1520,-1381,-1274,'\n",
      "done. sleep 4\n",
      "iter: 3: sent: b'-1160,-995,-791,-608,-464,-323,-171,-8,144,283,408,522,627,723,7'\n",
      "done. sleep 4\n",
      "iter: 4: sent: b'84,829,880,948,1001,1023,1032,1050,1061,1058,1059,1070,1089,1086'\n",
      "done. sleep 4\n",
      "iter: 5: sent: b',1079,1062,1049,1044,1044,1037,1017,993,966,915,844,770,714,651,'\n",
      "done. sleep 4\n",
      "iter: 6: sent: b'567,456,334,208,85,-42,-184,-314,-445,-582,-724,-874,-997,-1110,'\n",
      "done. sleep 4\n",
      "iter: 7: sent: b'-1215,-1315,-1415,-1499,-1559,-1592,-1625,-1641,-1636,-1591,-153'\n",
      "done. sleep 4\n",
      "iter: 8: sent: b'2,-1473,-1405,-1314,-1206,-1092,-977,-858,-732,-603,-470,-343,-2'\n",
      "done. sleep 4\n",
      "iter: 9: sent: b'19,-105,9,119,218,304,375,440,495,542,583,612,634,645,643,628,61'\n",
      "done. sleep 4\n",
      "iter: 10: sent: b'0,613,625,637,621,597,567,556,553,546,528,502,483,470,452,431,41'\n",
      "done. sleep 4\n",
      "iter: 11: sent: b'3,405,396,383,359,334,313,295,277,254,236,221,203,184,160,139,12'\n",
      "done. sleep 4\n",
      "iter: 12: sent: b'7,105,88,64,46,21,-12,-48,-82,-109,-129,-156,-180,-207,-234,-253'\n",
      "done. sleep 4\n",
      "iter: 13: sent: b',-277,-298,-319,-337,-350,-365,-379,-391,-395,-394,-386,-383,-37'\n",
      "done. sleep 4\n",
      "iter: 14: sent: b'9,-368,-352,-341,-328,-320,-305,-297,-284,-279,-272,-275,-286,-2'\n",
      "done. sleep 4\n",
      "iter: 15: sent: b'90,-279,-259,-248,-252,-254,-253,-253,-243,-239,-237,-234,-225,-'\n",
      "done. sleep 4\n",
      "iter: 16: sent: b'217,-211,-211,-203,-190,-178,-168,-162,-153,-141,-139,-132,-124,'\n",
      "done. sleep 4\n",
      "iter: 17: sent: b'-111,-100,-87,-78,-72,-60,-49,-40,-36,-22,-11,1,16,21,25,36,49,6'\n",
      "done. sleep 4\n",
      "iter: 18: sent: b'3,73,88,94,100,108,119,126,137,152,163,169,175,178,188,199,205,2'\n",
      "done. sleep 4\n",
      "iter: 19: sent: b'14,226,230,235,238,239,248,256,268,268,272,274,277,284,281,287,2'\n",
      "done. sleep 4\n",
      "iter: 20: sent: b'90,299,298,299,298,302,299,299,300,302,300,300,296,292,290,292,2'\n",
      "done. sleep 4\n",
      "iter: 21: sent: b'90,289,286,281,275,274,266,266,260,253,254,247,239,233,230,220,2'\n",
      "done. sleep 4\n",
      "iter: 22: sent: b'15,211,206,197,194,185,178,169,166,161,148,145,141,126,121,115,1'\n",
      "done. sleep 4\n",
      "iter: 23: sent: b'08,101,94,85,78,70,64,57,54,45,39,31,25,15,12,4,0,-4,-9,-13,-24,'\n",
      "done. sleep 4\n",
      "iter: 24: sent: b'-26,-31,-40,-40,-45,-49,-53,-62,-62,-66,-69,-75,-76,-75,-78,-82,'\n",
      "done. sleep 4\n",
      "iter: 25: sent: b'-81,-85,-87,-90,-85,-89,-94,-91,-91,-93,-94,-87,-91,-87,-87,-85,'\n",
      "done. sleep 4\n",
      "iter: 26: sent: b'-84,-82,-81,-84,-80,-76,-73,-69,-66,-66,-62,-57,-55,-49,-51,-48,'\n",
      "done. sleep 4\n",
      "iter: 27: sent: b'-40,-38,-31,-30,-24,-21,-17,-13,-8,-4,-2,3,12,18,19,27,30,36,37,'\n",
      "done. sleep 4\n",
      "iter: 28: sent: b'43,49,54,60,58,63,67,73,78,82,84,94,96,100,103,103,108,109,112,1'\n",
      "done. sleep 4\n",
      "iter: 29: sent: b'18,119,123,124,128,128,132,132,135,137,135,141,141,144,144,139,1'\n",
      "done. sleep 4\n",
      "iter: 30: sent: b'42,142,141,137,139,141,137,139,137,133,133,136,132,132,128,130,1'\n",
      "done. sleep 4\n",
      "iter: 31: sent: b'27,124,118,114,118,110,108,105,106,99,94,94,90,91,84,82,78,72,73'\n",
      "done. sleep 4\n",
      "iter: 32: sent: b',69,61,58,57,54,51,46,40,39,34,33,25,19,21,18,15,13,12,6,3,0,-4,'\n",
      "done. sleep 4\n",
      "iter: 33: sent: b'-3,-6,-11,-11,-15,-15,-18,-21,-22,-24,-24,-29,-29,-30,-31,-31,-3'\n",
      "done. sleep 4\n",
      "iter: 34: sent: b'1,-29,-31,-31,-31,-33,-31,-30,-30,-30,-30,-29,-27,-24,-27,-26,-1'\n",
      "done. sleep 4\n",
      "iter: 35: sent: b'8,-22,-20,-18,-17,-12,-9,-11,-6,-6,-2,1,0,6,6,7,13,18,18,22,25,2'\n",
      "done. sleep 4\n",
      "iter: 36: sent: b'7,28,33,36,39,40,46,45,49,49,52,55,54,63,63,64,67,70,72,75,75,78'\n",
      "done. sleep 4\n",
      "iter: 37: sent: b',79,84,84,82,87,84,85,87,90,90,93,93,96,94,93,93,91,96,91,94,90,'\n",
      "done. sleep 4\n",
      "iter: 38: sent: b'93,90,90,90,88,88,87,84,85,82,81,79,75,72,75,73,70,69,63,63,60,5'\n",
      "done. sleep 4\n",
      "iter: 39: sent: b'5,54,55,49,51,45,43,40,39,37,31,27,27,25,24,22,18,13,10,10,4,3,6'\n",
      "done. sleep 4\n",
      "iter: 40: sent: b',-6,-6,-9,-4,-8,-12,-15,-18,-17,-17,-20,-20,-22,-24,-24,-24,-27,'\n",
      "done. sleep 4\n",
      "iter: 41: sent: b'-30,-29,-30,-31,-30,-35,-31,-31,-35,-35,-35,-31,-31,-31,-29,-33,'\n",
      "done. sleep 4\n",
      "iter: 42: sent: b'-31,-29,-29,-26,-27,-22,-22,-24,-20,-18,-20,-15,-12,-12,-6,-6,-8'\n",
      "done. sleep 4\n",
      "iter: 43: sent: b',-4,-3,0,3,4,9,10,10,15,16,19,25,22,22,25,31,34,31,37,37,40,39,4'\n",
      "done. sleep 4\n",
      "iter: 44: sent: b'6,45,48,48,51,51,52,55,58,57,57,63,63,61,63,64,66,66,64,66,67,67'\n",
      "done. sleep 4\n",
      "iter: 45: sent: b',67,67,64,66,64,63,66,66,69,64,61,61,61,60,57,58,58,55,52,52,49,'\n",
      "done. sleep 4\n",
      "iter: 46: sent: b'45,46,46,40,40,45,37,33,34,31,25,28,25,22,22,19,15,12,12,7,7,6,1'\n",
      "done. sleep 4\n",
      "iter: 47: sent: b',0,0,-3,-3,-6,-9,-15,-11,-15,-13,-18,-15,-20,-20,-24,-22,-24,-24'\n",
      "done. sleep 4\n",
      "iter: 48: sent: b',-27,-29,-30,-30,-31,-30,-30,-31,-35,-35,-33,-31,-33,-31,-33,-30'\n",
      "done. sleep 4\n",
      "iter: 49: sent: b',-33,-33,-30,-31,-27,-29,-29,-24,-26,-22,-21,-24,-21,-15,-13,-17'\n",
      "done. sleep 4\n",
      "iter: 50: sent: b',-15,-12,-11,-12,-6,-8,1,-3,0,1,6,6,10,9,12,15,16,19,19,24,25,27'\n",
      "done. sleep 4\n",
      "iter: 51: sent: b',30,34,33,37,37,39,42,43,45,48,49,49,52,54,58,54,60,60,64,61,63,'\n",
      "done. sleep 4\n",
      "iter: 52: sent: b'66,67,67,67,70,70,67,69,73,70,73,73,72,70,73,72,70,73,72,72,69,7'\n",
      "done. sleep 4\n",
      "iter: 53: sent: b'0,70,69,66,69,64,61,61,61,58,55,60,58,52,52,49,51,46,43,45,40,39'\n",
      "done. sleep 4\n",
      "iter: 54: sent: b',39,34,30,30,30,22,24,22,18,15,13,13,10,4,7,3,0,-3,-9,-4,-6,-11,'\n",
      "done. sleep 4\n",
      "iter: 55: sent: b'-12,-13,-15,-17,-17,-18,-22,-24,-24,-26,-27,-27,-30,-31,-30,-36,'\n",
      "done. sleep 4\n",
      "iter: 56: sent: b'-35,-36,-35,-35,-36,-39,-38,-40,-38,-36,-39,-39,-39,-38,-36,-39,'\n",
      "done. sleep 4\n",
      "iter: 57: sent: b'-38,-39,-35,-38,-36,-35,-33,-35,-33,-30,-30,-31,-29,-30,-29,-24,'\n",
      "done. sleep 4\n",
      "iter: 58: sent: b'-22,-26,-24,-21,-18,-18,-15,-15,-12,-13,-11,-11,-11,-8,-4,-8,-4,'\n",
      "done. sleep 4\n",
      "iter: 59: sent: b'0,1,1,0,1,3,4,10,9,9,9,12,12,13,15,18,18,16,19,22,22,22,21,24,25'\n",
      "done. sleep 4\n",
      "iter: 60: sent: b',25,25,30,28,30,30,27,30,30,34,33,33,33,34,36,33,34,34,36,37,37,'\n",
      "done. sleep 4\n",
      "iter: 61: sent: b'36,39,40,40,42,42,40,40,42,45,40,42,42,39,40,45,43,45,43,43,43,4'\n",
      "done. sleep 4\n",
      "iter: 62: sent: b'8,46,43,45,43,45,49,43,43,43,46,45,43,42,43,45,42,40,45,42,40,40'\n",
      "done. sleep 4\n",
      "iter: 63: sent: b',39,42,39,37,37,36,31,36,30,30,31,28,24,27,22,22,18,16,16,15,12,'\n",
      "done. sleep 4\n",
      "iter: 64: sent: b'12,7,9,6,6,3,1,0,-3,0,-4,-6,-6,-9,-15,-9,-15,-17,-20,-21,-20,-26'\n",
      "done. sleep 4\n",
      "iter: 65: sent: b',-22,-26,-27,-30,-29,-33,-29,-33,-30,-36,-35,-35,-36,-31,-38,-36'\n",
      "done. sleep 4\n",
      "iter: 66: sent: b',-39,-38,-38,-39,-38,-40,-36,-36,-38,-40,-38,-36,-35,-38,-35,-35'\n",
      "done. sleep 4\n",
      "iter: 67: sent: b',-31,-33,-30,-30,-30,-29,-30,-27,-30,-27,-26,-22,-21,-24,-22,-20'\n",
      "done. sleep 4\n",
      "iter: 68: sent: b',-22,-17,-17,-15,-13,-13,-15,-11,-12,-9,-6,-8,-3,-3,-4,1,3,1,3,4'\n",
      "done. sleep 4\n",
      "iter: 69: sent: b',7,12,10,9,15,9,12,15,16,18,21,22,22,24,25,22,25,25,31,28,34,33,'\n",
      "done. sleep 4\n",
      "iter: 70: sent: b'33,37,34,39,36,36,40,37,39,42,42,40,42,40,42,42,45,40,40,42,46,4'\n",
      "done. sleep 4\n",
      "iter: 71: sent: b'0,40,40,39,40,43,39,40,39,36,36,31,34,33,33,31,28,31,33,28,27,25'\n",
      "done. sleep 4\n",
      "iter: 72: sent: b',24,28,24,24,22,21,19,18,19,16,15,15,13,9,9,7,6,4,4,4,1,1,-2,-2,'\n",
      "done. sleep 4\n",
      "iter: 73: sent: b'-2,-2,-3,-8,-9,-8,-8,-8,-12,-12,-11,-11,-13,-12,-15,-17,-17,-17,'\n",
      "done. sleep 4\n",
      "iter: 74: sent: b'-17,-18,-18,-18,-17,-15,-17,-22,-20,-20,-17,-21,-17,-18,-18,-18,'\n",
      "done. sleep 4\n",
      "iter: 75: sent: b'-20,-18,-17,-17,-17,-15,-18,-13,-15,-15,-13,-9,-12,-9,-11,-11,-9'\n",
      "done. sleep 4\n",
      "iter: 76: sent: b',-8,-4,-9,-3,-4,-3,-3,0,1,0,4,1,4,4,6,7,9,9,9,12,9,13,10,13,15,1'\n",
      "done. sleep 4\n",
      "iter: 77: sent: b'3,18,16,16,19,19,21,21,22,22,24,24,21,27,25,24,22,24,22,25,24,30'\n",
      "done. sleep 4\n",
      "iter: 78: sent: b',28,25,28,22,27,27,24,27,24,27,27,21,24,25,25,22,19,19,21,21,18,'\n",
      "done. sleep 4\n",
      "iter: 79: sent: b'18,19,18,16,19,15,18,13,13,9,10,9,10,9,7,7,6,3,4,3,1,-3,0,-3,-2,'\n",
      "done. sleep 4\n",
      "iter: 80: sent: b'-6,-6,-4,-6,-6,-9,-12,-11,-9,-11,-15,-13,-15,-18,-12,-18,-18,-17'\n",
      "done. sleep 4\n",
      "iter: 81: sent: b',-18,-17,-21,-18,-20,-20,-20,-20,-21,-20,-20,-21,-20,-22,-21,-26'\n",
      "done. sleep 4\n",
      "iter: 82: sent: b',-21,-24,-21,-21,-24,-20,-20,-22,-21,-20,-21,-17,-20,-18,-20,-18'\n",
      "done. sleep 4\n",
      "iter: 83: sent: b',-17,-17,-17,-17,-9,-15,-12,-11,-12,-9,-8,-9,-8,-6,-6,-3,-6,-4,-'\n",
      "done. sleep 4\n",
      "iter: 84: sent: b'2,3,-2,0,1,3,3,6,4,4,7,9,12,9,7,12,10,12,13,13,13,13,19,16,16,12'\n",
      "done. sleep 4\n",
      "iter: 85: sent: b',18,16,21,18,21,21,19,19,24,22,22,21,22,25,22,24,25,25,21,22,24,'\n",
      "done. sleep 4\n",
      "iter: 86: sent: b'24,24,19,21,22,19,22,19,22,21,18,19,21,18,18,18,15,18,15,16,15,1'\n",
      "done. sleep 4\n",
      "iter: 87: sent: b'8,15,15,12,16,10,9,10,9,7,9,10,6,4,4,3,4,7,4,6,3,1,3,1,0,1,0,-2,'\n",
      "done. sleep 4\n",
      "iter: 88: sent: b'-2,-3,-3,-2,-8,-3,-6,-4,-4,-6,-6,-8,-9,-9,-9,-8,-8,-9,-8,-8,-6,-'\n",
      "done. sleep 4\n",
      "iter: 89: sent: b'8,-12,-9,-8,-6,-8,-6,-8,-6,-8,-11,-12,-8,-9,-9,-8,-9,-8,-8,-4,-6'\n",
      "done. sleep 4\n",
      "iter: 90: sent: b',-8,-9,-6,-8,-8,-4,-4,-3,-4,-4,-4,-9,-2,-2,-4,-4,-2,-3,-4,0,-2,-'\n",
      "done. sleep 4\n",
      "iter: 91: sent: b'2,-4,-2,1,3,-2,-4,-2,-2,0,-2,3,0,1,0,-2,-4,1,0,1,-2,0,-2,3,0,0,3'\n",
      "done. sleep 4\n",
      "iter: 92: sent: b',3,0,4,1,1,1,1,3,0,0,1,0,3,1,1,0,1,3,-2,0,-3,1,1,3,1,0,-2,3,3,-2'\n",
      "done. sleep 4\n",
      "iter: 93: sent: b',0,0,1,0,-2,0,1,-2,3,-2,-3,-4,1,-2,1,1,1,1,3,4,3,1,1,1,4,3,4,1,3'\n",
      "done. sleep 4\n",
      "iter: 94: sent: b',0,6,6,4,3,4,6,4,7,4,7,4,7,9,9,7,9,10,4,6,7,6,6,6,10,12,7,9,10,6'\n",
      "done. sleep 4\n",
      "iter: 95: sent: b',12,13,10,9,12,7,12,12,9,12,10,10,12,12,7,12,10,9,12,16,9,12,12,'\n",
      "done. sleep 4\n",
      "iter: 96: sent: b'10,9,7,9,9,7,13,10,13,10,9,10,10,12,7,10,6,10,4,6,10,7,6,3,7,6,6'\n",
      "done. sleep 4\n",
      "iter: 97: sent: b',7,1,4,6,3,1,3,3,3,4,1,1,0,0,1,-3,-2,1,-2,-4,0,0,-2,0,0,-3,-4,-3'\n",
      "done. sleep 4\n",
      "iter: 98: sent: b',-6,-8,-8,-4,-6,-3,-6,-8,-6,-11,-9,-9,-6,-8,-6,-9,-8,-9,-12,-8,-'\n",
      "done. sleep 4\n",
      "iter: 99: sent: b'9,-6,-12,-8,-6,-9,-11,-8,-8,-9,-6,-6,-9,-9,-6,-9,-8,-8,-9,-9,-6,'\n",
      "done. sleep 4\n",
      "iter: 100: sent: b'-9,-11,-6,-12,-9,-9,-9,-8,-11,-9,-9,-9,-9,-6,-8,-6,-6,-8,-6,-8,-'\n",
      "done. sleep 4\n",
      "iter: 101: sent: b'9,-6,-6,-4,-8,-6,-4,-3,-4,-4,-3,-6,-4,-3,-2,-3,-3,-3,-2,-2,0,0,-'\n",
      "done. sleep 4\n",
      "iter: 102: sent: b'2,0,-3,0,-3,-2,-2,1,-2,4,3,1,4,0,4,1,4,1,6,7,10,3,0,6,6,3,6,7,9,'\n",
      "done. sleep 4\n",
      "iter: 103: sent: b'4,7,7,7,9,7,6,7,9,7,7,9,9,7,7,7,10,10,9,7,9,7,7,7,10,7,9,10,9,10'\n",
      "done. sleep 4\n",
      "iter: 104: sent: b',7,9,9,7,7,9,7,9,7,7,7,7,6,3,4,7,6,6,3,6,1,6,6,3,3,0,3,1,3,3,3,1'\n",
      "done. sleep 4\n",
      "iter: 105: sent: b',3,1,0,1,-2,0,0,-2,1,-4,0,0,0,0,1,0,-2,0,0,-3,-2,0,-3,-2,-3,-3,-'\n",
      "done. sleep 4\n",
      "iter: 106: sent: b'2,-3,-3,-2,-2,-3,-4,-4,0,-3,-4,-2,-3,-3,1,-2,0,-6,-2,-2,-2,1,0,0'\n",
      "done. sleep 4\n",
      "iter: 107: sent: b',0,1,0,1,1,0,-3,1,-2,-2,-2,-2,0,0,0,-2,3,-2,3,-2,0,0,3,1,0,1,-2,'\n",
      "done. sleep 4\n",
      "iter: 108: sent: b'3,3,7,4,0,1,1,1,1,1,3,3,0,1,0,3,4,1,1,1,1,0,4,-2,1,1,1,1,1,6,0,1'\n",
      "done. sleep 4\n",
      "iter: 109: sent: b',3,1,-3,1,1,3,-3,0,1,0,0,3,0,0,3,1,0,3,0,0,3,3,1,1,1,1,1,-2,1,0,'\n",
      "done. sleep 4\n",
      "iter: 110: sent: b'1,3,-2,-4,1,-3,0,1,3,-2,-2,-2,0,4,-2,-3,-3,1,0,-3,-4,-3,-2,-2,-3'\n",
      "done. sleep 4\n",
      "iter: 111: sent: b',1,-2,1,-3,-2,-3,-3,-4,1,-4,-2,-6,-3,-6,-2,-3,-2,0,1,-4,-3,0,-3,'\n",
      "done. sleep 4\n",
      "iter: 112: sent: b'-3,-3,-3,-3,-2,0,-3,-4,-4,-3,-3,-4,-2,-6,-3,-4,-2,-4,-2,-4,-3,-3'\n",
      "done. sleep 4\n",
      "iter: 113: sent: b',-3,-2,-2,-4,0,0,-2,1,-3,-2,0,-3,-2,0,-2,0,0,-3,0,-2,-2,1,1,3,1,'\n",
      "done. sleep 4\n",
      "iter: 114: sent: b'1,1,0,3,1,1,3,1,3,3,3,0,4,6,1,4,0,4,6,4,1,6,3,4,6,7,7,6,4,3,6,1,'\n",
      "done. sleep 4\n",
      "iter: 115: sent: b'3,6,4,3,7,3,4,6,7,6,4,7,6,7,6,7,9,4,7,6,9,6,6,10,7,6,6,6,4,7,6,7'\n",
      "done. sleep 4\n",
      "iter: 116: sent: b',3,3,6,4,1,4,4,3,6,3,4,1,1,3,3,1,1,1,1,-2,1,1,0,-4,0,-2,-4,-2,-3'\n",
      "done. sleep 4\n",
      "iter: 117: sent: b',1,-4,-8,-4,-6,-4,-4,-6,-6,-2,-8,-8,-4,-4,-6,-8,-8,-11,-9,-6,-6,'\n",
      "done. sleep 4\n",
      "iter: 118: sent: b'-9,-9,-9,-11,-12,-9,-9,-11,-11,-9,-11,-11,-12,-9,-11,-11,-11,-12'\n",
      "done. sleep 4\n",
      "iter: 119: sent: b',-9,-9,-11,-9,-8,-11,-11,-12,-6,-8,-9,-12,-8,-8,-8,-8,-8,-11,-9,'\n",
      "done. sleep 4\n",
      "iter: 120: sent: b'-9,-8,-4,-3,-8,-3,-8,-6,-3,-2,-8,-4,-3,-3,-4,-3,-3,-2,-2,3,-4,-3'\n",
      "done. sleep 4\n",
      "iter: 121: sent: b',0,1,1,0,0,6,0,3,4,4,1,6,6,3,4,3,3,4,4,9,6,4,6,4,4,9,6,9,9,7,6,7'\n",
      "done. sleep 4\n",
      "iter: 122: sent: b',7,9,9,7,10,10,7,6,7,9,9,9,10,10,4,10,9,12,7,9,7,9,9,9,4,9,9,7,6'\n",
      "done. sleep 4\n",
      "iter: 123: sent: b',7,6,6,7,6,4,3,7,6,3,4,9,6,7,1,7,4,1,3,1,3,3,1,1,3,-2,1,1,3,-2,-'\n",
      "done. sleep 4\n",
      "iter: 124: sent: b'2,1,1,1,3,3,0,-3,-2,3,-2,-2,-2,0,-4,-2,-2,1,-2,-2,-2,-2,0,-2,0,-'\n",
      "done. sleep 4\n",
      "iter: 125: sent: b'2,0,-3,-3,0,3,-6,-3,1,-2,-3,0,-2,-3,-4,-3,-4,-6,-3,-2,-3,-4,-6,0'\n",
      "done. sleep 4\n",
      "iter: 126: sent: b',-2,-2,-3,-2,-2,-4,-3,-2,0,-2,1,-2,-3,-3,-2,-2,-3,-4,-4,-4,1,-2,'\n",
      "done. sleep 4\n",
      "iter: 127: sent: b'-3,-3,0,-2,-3,-3,-2,-3,-4,-2,-6,-3,-3,-2,0,0,-2,-2,-2,-4,-2,-2,-'\n",
      "done. sleep 4\n",
      "iter: 128: sent: b'4,-4,-4,-2,0,-2,1,-3,-4,-3,-4,-4,-4,-4,-3,-3,3,-4,0,-4,-2,0,-2,0'\n",
      "done. sleep 4\n",
      "iter: 129: sent: b',-4,-3,-4,-3,-3,-2,-4,0,-4,-3,-3,-3,0,-3,-2,-2,-2,-3,0,0,0,-4,-2'\n",
      "done. sleep 4\n",
      "iter: 130: sent: b',0,-3,-2,-4,-2,0,3,1,-3,0,-6,0,1,-2,0,-3,-3,0,0,-2,0,1,-2,0,-2,3'\n",
      "done. sleep 4\n",
      "iter: 131: sent: b',1,1,-2,0,1,1,3,0,-2,3,3,1,-3,1,0,1,0,4,3,1,1,4,3,3,1,3,3,1,0,0,'\n",
      "done. sleep 4\n",
      "iter: 132: sent: b'3,0,1,3,1,3,4,3,0,3,4,3,0,3,1,3,0,0,3,3,6,0,1,3,1,-2,4,1,1,1,0,1'\n",
      "done. sleep 4\n",
      "iter: 133: sent: b',-2,1,0,-2,3,1,3,0,-3,0,-3,3,-2,3,0,0,-2,3,0,0,-2,0,-2,-2,-3,-2,'\n",
      "done. sleep 4\n",
      "iter: 134: sent: b'-4,-6,0,-2,0,0,-2,-2,-3,-3,0,0,-2,-2,1,0,-2,-4,-2,-2,-3,-4,-4,0,'\n",
      "done. sleep 4\n",
      "iter: 135: sent: b'-2,-4,1,-3,1,-3,-4,-2,0,-2,-3,-3,-2,0,0,0,0,0,-2,-4,-3,1,-3,-6,-'\n",
      "done. sleep 4\n",
      "iter: 136: sent: b'2,-2,0,-2,1,-2,-3,-3,0,0,0,-2,3,0,0,1,0,1,1,0,1,1,-2,3,1,1,0,0,1'\n",
      "done. sleep 4\n",
      "iter: 137: sent: b',0,0,0,4,3,0,3,4,0,3,1,0,1,1,4,4,3,1,-2,1,4,3,-3,1,0,1,1,3,1,-3,'\n",
      "done. sleep 4\n",
      "iter: 138: sent: b'1,-2,0,3,3,0,1,0,1,0,3,3,1,1,-2,1,-4,-2,0,0,1,0,-2,0,-2,0,0,-2,-'\n",
      "done. sleep 4\n",
      "iter: 139: sent: b'3,-2,-3,-2,-3,-3,-3,-3,-3,-2,-3,-3,-3,-6,-3,0,0,-6,-2,-2,-3,-2,-'\n",
      "done. sleep 4\n",
      "iter: 140: sent: b'3,-3,0,-4,-6,-2,-2,0,-2,-6,-3,0,-3,0,-3,-3,1,-3,-4,1,-4,-3,-3,-2'\n",
      "done. sleep 4\n",
      "iter: 141: sent: b',-3,-2,-3,3,0,1,0,0,-2,1,1,-2,-2,0,0,1,4,1,6,0,3,6,0,3,3,4,3,3,1'\n",
      "done. sleep 4\n",
      "iter: 142: sent: b',3,3,0,1,3,1,0,4,3,3,4,4,3,4,4,6,6,3,7,3,1,0,3,4,3,3,4,0,6,3,3,3'\n",
      "done. sleep 4\n",
      "iter: 143: sent: b',3,4,7,3,0,1,7,3,1,4,9,3,3,3,1,0,1,1,0,0,1,3,3,0,3,1,-2,0,3,1,3,'\n",
      "done. sleep 4\n",
      "iter: 144: sent: b'-2,-2,0,0,-2,0,-2,-2,0,0,1,0,-6,-3,0,1,-3,0,0,-3,-2,-3,0,-3,-2,0'\n",
      "done. sleep 4\n",
      "iter: 145: sent: b',-2,-8,-3,-2,-3,-6,-2,-3,-2,-6,-3,-2,-2,-3,-3,-3,-8,-6,-3,-8,-4,'\n",
      "done. sleep 4\n",
      "iter: 146: sent: b'-4,-4,-2,-3,-3,-4,-4,-3,-4,-4,-2,-3,-6,-3,-4,-8,-9,-4,-3,-4,-3,-'\n",
      "done. sleep 4\n",
      "iter: 147: sent: b'8,-6,-6,-3,-3,-3,-4,-6,-4,-8,-3,-4,-6,-3,-4,-6,-4,-4,-6,-2,-3,-2'\n",
      "done. sleep 4\n",
      "iter: 148: sent: b',-3,-3,-3,-3,-3,-2,-4,-3,-2,-2,-4,-4,-3,0,-2,-2,-3,-4,-2,-2,-3,-'\n",
      "done. sleep 4\n",
      "iter: 149: sent: b'3,-2,0,0,-2,-2,0,3,0,-3,0,0,1,1,-2,1,-2,0,0,1,0,0,1,1,1,-2,3,3,3'\n",
      "done. sleep 4\n",
      "iter: 150: sent: b',1,1,1,1,1,3,1,1,3,1,1,1,3,3,3,-2,1,1,6,3,3,3,6,3,3,1,1,3,4,4,1,'\n",
      "done. sleep 4\n",
      "iter: 151: sent: b'1,6,4,6,3,3,1,4,6,4,3,7,6,4,4,4,4,9,4,3,6,4,1,6,6,0,4,6,3,3,4,3,'\n",
      "done. sleep 4\n",
      "iter: 152: sent: b'4,3,1,1,1,3,1,4,0,4,3,3,3,4,1,1,3,1,4,3,0,0,3,3,0,1,1,0,0,0,1,0,'\n",
      "done. sleep 4\n",
      "iter: 153: sent: b'-2,-3,0,-3,-3,-6,3,-2,0,-2,0,-4,-2,0,-3,0,-2,-2,1,-2,-2,-3,-2,-4'\n",
      "done. sleep 4\n",
      "iter: 154: sent: b',-3,-4,-3,-3,-4,-4,-6,-2,-4,-8,-4,0,-4,-4,-2,-4,-4,-2,-6,-3,-2,-'\n",
      "done. sleep 4\n",
      "iter: 155: sent: b'6,-3,-3,-2,-4,-4,-4,-3,-4,-6,-2,-2,-4,-3,-3,0,-4,-4,0,-4,-4,-3,-'\n",
      "done. sleep 4\n",
      "iter: 156: sent: b'4,-2,-2,-3,-4,-2,-4,1,-4,-3,-2,-3,0,-2,-4,0,0,1,1,-3,0,-3,3,-4,-'\n",
      "done. sleep 4\n",
      "iter: 157: sent: b'3,0,0,3,-3,0,0,3,0,-3,0,0,1,1,3,-2,0,0,1,3,1,1,3,1,1,1,0,4,3,0,0'\n",
      "done. sleep 4\n",
      "iter: 158: sent: b',1,3,1,3,3,1,4,4,3,4,6,1,-2,3,1,4,3,0,4,1,6,4,1,1,0,0,4,3,1,3,0,'\n",
      "done. sleep 4\n",
      "iter: 159: sent: b'0,3,-2,0,3,4,0,0,1,1,-2,0,0,3,1,-2,-3,0,0,0,0,3,0,1,1,-2,0,0,0,4'\n",
      "done. sleep 4\n",
      "iter: 160: sent: b',1,0,1,-2,-3,0,0,1,0,-3,0,1,-3,-2,-2,0,3,-3,-2,-2,-2,-2,0,-2,0,-'\n",
      "done. sleep 4\n",
      "iter: 161: sent: b'3,1,1,-4,3,-2,-3,-2,-2,0,-3,-3,-2,-3,0,-3,-3,-2,-3,0,-3,-4,-2,-3'\n",
      "done. sleep 4\n",
      "iter: 162: sent: b',-2,-4,-2,-3,0,1,-4,-2,-2,-4,-2,-2,-2,0,0,-3,-2,-2,-2,-3,-2,-2,-'\n",
      "done. sleep 4\n",
      "iter: 163: sent: b'6,-2,1,-3,-2,-2,-2,-2,-2,-2,-2,-2,3,0,1,-3,-3,-2,-2,1,-2,-2,-3,-'\n",
      "done. sleep 4\n",
      "iter: 164: sent: b'4,-2,-3,0,-4,1,-2,1,0,-4,-2,-3,-4,-4,-2,-2,0,-3,-3,0,1,0,-2,-4,0'\n",
      "done. sleep 4\n",
      "iter: 165: sent: b',-2,-2,1,0,-2,-2,-3,1,-2,1,-2,0,-3,-2,0,-2,0,0,-2,-2,-4,-3,0,-2,'\n",
      "done. sleep 4\n",
      "iter: 166: sent: b'0,0,-2,-3,-2,-4,1,-2,-2,0,-2,-2,1,1,-3,-2,-3,0,-3,3,3,-4,-3,-3,-'\n",
      "done. sleep 4\n",
      "iter: 167: sent: b'3,1,0,1,0,-3,3,0,0,3,0,1,1,1,1,0,1,-2,1,1,1,0,0,3,1,1,-3,-2,3,0,'\n",
      "done. sleep 4\n",
      "iter: 168: sent: b'3,1,0,3,0,1,3,-3,3,1,-2,0,-2,1,3,4,1,3,0,3,1,1,3,0,3,0,3,1,0,3,4'\n",
      "done. sleep 4\n",
      "iter: 169: sent: b',3,4,4,3,1,0,3,3,1,0,0,3,0,4,1,1,1,-2,0,4,0,0,0,3,3,4,0,3,3,0,1,'\n",
      "done. sleep 4\n",
      "iter: 170: sent: b'1,0,1,4,0,4,1,1,3,4,3,0,0,0,1,1,3,-2,0,0,1,1,1,4,1,3,4,3,4,0,0,3'\n",
      "done. sleep 4\n",
      "iter: 171: sent: b',3,3,0,1,1,0,-2,0,-2,1,0,0,1,1,0,0,-2,-3,0,-2,0,1,-4,-2,0,0,3,1,'\n",
      "done. sleep 4\n",
      "iter: 172: sent: b'-3,-3,-3,-2,-3,-2,-2,1,0,-2,0,-2,-2,-2,-3,-3,-4,-2,-2,-2,-4,-4,-'\n",
      "done. sleep 4\n",
      "iter: 173: sent: b'3,1,-4,-3,-3,-2,0,-3,-2,-4,-2,-3,-2,-2,-6,-3,-4,-2,-4,-3,-3,-3,-'\n",
      "done. sleep 4\n",
      "iter: 174: sent: b'4,-3,-2,-3,-2,-3,-2,0,-2,0,-2,-4,-3,-3,-3,-2,-6,-2,-6,-2,-3,-3,-'\n",
      "done. sleep 4\n",
      "iter: 175: sent: b'4,-2,-3,-3,-4,-4,-6,-2,-2,-3,-4,-3,-4,-2,-2,-3,-4,0,-6,-3,-3,-2,'\n",
      "done. sleep 4\n",
      "iter: 176: sent: b'-3,-4,-3,1,-6,-3,-3,-2,-2,-2,-2,0,-2,1,-2,0,0,-2,-2,-2,1,0,3,0,-'\n",
      "done. sleep 4\n",
      "iter: 177: sent: b'2,0,1,0,0,-3,0,0,-2,1,1,1,1,1,0,1,6,3,0,0,1,0,-2,1,1,1,3,0,-2,0,'\n",
      "done. sleep 4\n",
      "iter: 178: sent: b'1,0,0,1,3,0,4,1,1,3,1,3,4,3,-2,3,4,0,3,3,-2,3,3,1,-2,1,4,0,3,0,1'\n",
      "done. sleep 4\n",
      "iter: 179: sent: b',0,0,1,3,3,0,-2,3,1,4,0,0,-3,3,-2,0,3,-2,1,1,3,0,0,3,3,1,1,0,0,-'\n",
      "done. sleep 4\n",
      "iter: 180: sent: b'3,-2,0,-3,3,-2,1,-2,0,1,0,1,-2,0,3,1,0,0,-3,-3,-2,0,1,-2,0,0,-2,'\n",
      "done. sleep 4\n",
      "iter: 181: sent: b'0,-2,0,-2,-3,1,-3,0,-2,0,0,-2,0,-4,-3,0,-2,-2,-2,0,-4,-2,-2,-2,-'\n",
      "done. sleep 4\n",
      "iter: 182: sent: b'2,-4,-2,-2,0,-2,-2,-2,0,-2,-3,-2,-2,-2,-2,-2,1,-2,-2,-4,-4,-2,-4'\n",
      "done. sleep 4\n",
      "iter: 183: sent: b',-2,0,0,-4,-2,-3,-2,-3,-4,0,-2,-3,0,0,0,-3,-2,0,-3,-3,-2,-2,-3,-'\n",
      "done. sleep 4\n",
      "iter: 184: sent: b'3,-2,-3,0,-2,-4,0,-2,-3,0,0,0,-3,1,-3,1,0,-2,0,-2,-2,-3,0,-2,0,-'\n",
      "done. sleep 4\n",
      "iter: 185: sent: b'2,0,0,-2,0,-3,3,3,1,1,-4,0,0,0,0,1,3,-2,-2,1,1,1,1,0,1,0,1,0,1,0'\n",
      "done. sleep 4\n",
      "iter: 186: sent: b',4,1,0,1,6,6,0,0,1,6,3,1,1,1,6,1,0,1,0,3,3,1,4,4,3,1,1,4,3,3,3,-'\n",
      "done. sleep 4\n",
      "iter: 187: sent: b'3,0,4,3,1,1,4,1,3,0,1,1,0,0,1,6,1,3,6,1,3,0,1,4,-2,4,0,1,-2,1,3,'\n",
      "done. sleep 4\n",
      "iter: 188: sent: b'3,3,1,0,1,0,0,-2,3,1,0,0,-2,1,0,-2,0,3,0,-2,0,-2,-2,-3,-3,1,-4,-'\n",
      "done. sleep 4\n",
      "iter: 189: sent: b'3,-2,0,-2,0,-2,0,0,-3,-2,-2,-2,0,-3,-4,0,-4,-3,-4,-3,-3,-3,-3,1,'\n",
      "done. sleep 4\n",
      "iter: 190: sent: b'0,-4,-4,-2,-3,-4,1,-2,-2,-4,-2,-3,-2,-2,-3,0,-4,-2,-2,-3,-2,-4,0'\n",
      "done. sleep 4\n",
      "iter: 191: sent: b',-3,-8,-3,-6,-3,-6,-2,-3,-3,1,-2,-3,-3,-3,-2,-2,-3,-2,-2,-4,-4,-'\n",
      "done. sleep 4\n",
      "iter: 192: sent: b'2,-3,-4,-2,-3,1,0,-2,3,1,1,-2,0,-3,-2,-2,0,1,0,-2,0,0,-3,3,1,1,-'\n",
      "done. sleep 4\n",
      "iter: 193: sent: b'2,3,0,0,-2,0,0,-3,1,1,1,1,-3,0,-2,-2,3,-2,-2,1,0,1,-3,0,-2,1,-2,'\n",
      "done. sleep 4\n",
      "iter: 194: sent: b'1,-3,-2,-2,0,0,1,3,0,-2,-2,-2,1,-3,-2,1,1,7,1,0,-2,-2,0,1,0,0,0,'\n",
      "done. sleep 4\n",
      "iter: 195: sent: b'0,1,0,1,-2,0,-2,3,-2,-3,0,-2,-2,-2,-2,-2,0,0,0,-2,0,1,0,0,0,-2,-'\n",
      "done. sleep 4\n",
      "iter: 196: sent: b'3,1,0,0,3,0,1,-2,0,-2,1,1,3,0,-2,0,0,0,3,-2,-2,-2,1,0,-2,0,3,0,1'\n",
      "done. sleep 4\n",
      "iter: 197: sent: b',1,-2,1,-2,1,3,0,1,-2,0,-3,3,0,0,-2,1,0,-2,0,-2,0,0,0,0,-2,3,0,3'\n",
      "done. sleep 4\n",
      "iter: 198: sent: b',0,1,1,3,4,0,1,3,-2,1,-2,-2,1,1,0,-2,0,1,4,1,0,1,1,3,1,3,0,-2,0,'\n",
      "done. sleep 4\n",
      "iter: 199: sent: b'0,1,1,4,1,1,0,1,1,1,0,3,1,1,-2,-2,0,0,0,1,-3,-2,1,0,1,3,-3,3,-2,'\n",
      "done. sleep 4\n",
      "iter: 200: sent: b'-2,1,-2,0,-3,1,0,0,-2,1,-2,-3,0,0,-2,-2,-3,0,0,-2,0,0,0,1,-3,0,-'\n",
      "done. sleep 4\n",
      "iter: 201: sent: b'2,0,-2,-3,-2,-4,0,-3,-2,-4,-3,-4,-4,-2,-3,-3,-2,-2,-2,-2,-4,-3,0'\n",
      "done. sleep 4\n",
      "iter: 202: sent: b',-4,-2,0,-2,-3,-3,-2,0,-6,1,0,-3,0,-2,-3,1,-3,-2,-6,-3,0,-2,-2,0'\n",
      "done. sleep 4\n",
      "iter: 203: sent: b',0,-2,1,0,0,1,-4,4,0,-2,0,0,0,3,0,-2,0,1,3,-2,-2,3,1,-2,3,0,-3,0'\n",
      "done. sleep 4\n",
      "iter: 204: sent: b',1,1,0,0,3,0,0,-2,-2,1,0,0,3,0,1,1,1,0,-2,1,0,0,-2,3,1,1,0,0,1,-'\n",
      "done. sleep 4\n",
      "iter: 205: sent: b'3,1,-2,0,0,6,4,1,3,6,0,0,1,0,1,-2,-2,0,0,0,0,-4,3,1,1,-2,1,1,-2,'\n",
      "done. sleep 4\n",
      "iter: 206: sent: b'3,1,-2,1,-3,1,-3,0,0,-2,1,0,0,0,0,-2,-2,-3,1,-2,0,-2,-2,-2,-2,0,'\n",
      "done. sleep 4\n",
      "iter: 207: sent: b'1,0,-2,0,0,-3,-2,0,-2,-4,0,-2,-3,-4,-3,-2,0,-4,0,-3,0,0,0,0,-3,-'\n",
      "done. sleep 4\n",
      "iter: 208: sent: b'3,-3,-2,0,-2,-2,0,-2,-2,0,-2,0,-3,-2,-4,-4,-4,-2,-2,-3,0,-3,-2,-'\n",
      "done. sleep 4\n",
      "iter: 209: sent: b'3,-3,-2,-4,0,0,-4,0,0,-4,0,-3,-3,-2,1,-4,1,-3,0,-3,-2,-2,-2,-3,3'\n",
      "done. sleep 4\n",
      "iter: 210: sent: b',-2,-2,-2,0,-2,0,-2,-2,-2,-2,-3,-2,0,-2,-2,0,-3,0,-2,-3,-4,1,-2,'\n",
      "done. sleep 4\n",
      "iter: 211: sent: b'-2,-2,-4,-2,1,0,-3,1,-2,0,1,0,0,1,-2,-2,1,3,0,-2,0,-3,-3,1,-2,1,'\n",
      "done. sleep 4\n",
      "iter: 212: sent: b'0,-3,-2,1,0,-2,0,1,-2,3,0,-3,1,0,0,0,-2,0,-3,3,3,0,0,0,1,3,1,1,0'\n",
      "done. sleep 4\n",
      "iter: 213: sent: b',3,3,-3,3,3,0,-2,1,1,-2,4,0,-2,1,0,3,0,1,3,1,3,4,-3,3,3,3,3,1,0,'\n",
      "done. sleep 4\n",
      "iter: 214: sent: b'4,1,1,1,0,0,-2,-2,3,0,3,1,0,0,-2,0,0,1,1,0,-2,0,3,-2,0,1,-2,3,0,'\n",
      "done. sleep 4\n",
      "iter: 215: sent: b'0,1,0,0,-2,3,0,0,0,0,3,-2,0,1,1,0,0,4,1,-3,0,0,-2,0,3,0,1,0,0,-2'\n",
      "done. sleep 4\n",
      "iter: 216: sent: b',-2,0,-2,0,-2,3,0,-3,1,0,-3,-2,0,0,0,-2,0,1,-2,1,1,-2,-3,0,0,1,0'\n",
      "done. sleep 4\n",
      "iter: 217: sent: b',-2,0,0,1,0,-2,-2,0,0,-2,-2,0,1,-2,-2,0,0,0,-2,-2,-2,-2,0,0,0,0,'\n",
      "done. sleep 4\n",
      "iter: 218: sent: b'-2,0,-3,0,1,0,-3,-2,-2,1,0,0,0,-2,0,1,-2,-2,0,1,-2,0,1,-2,0,-3,-'\n",
      "done. sleep 4\n",
      "iter: 219: sent: b'2,0,0,0,0,-3,-2,-3,0,-2,-2,-2,-2,0,-3,-2,-2,-2,-2,1,-2,-3,-3,0,-'\n",
      "done. sleep 4\n",
      "iter: 220: sent: b'3,0,0,0,-2,0,-3,-2,-3,-2,-3,0,0,1,0,-2,1,-2,0,-2,0,-2,-3,-2,-4,-'\n",
      "done. sleep 4\n",
      "iter: 221: sent: b'2,-3,-4,1,0,-2,-3,-2,-2,0,-2,-2,-2,-2,-2,0,-2,1,-2,-3,1,-2,-2,3,'\n",
      "done. sleep 4\n",
      "iter: 222: sent: b'0,0,-2,-2,0,-2,-2,0,0,1,-3,-2,1,3,1,-2,0,0,1,1,3,0,-3,-2,-3,1,4,'\n",
      "done. sleep 4\n",
      "iter: 223: sent: b'1,-2,0,-2,0,1,-3,-3,1,0,1,0,3,-2,1,0,3,1,3,1,0,0,0,3,-2,3,0,1,1,'\n",
      "done. sleep 4\n",
      "iter: 224: sent: b'1,3,1,1,1,3,3,3,-4,-3,0,3,0,0,-2,3,0,1,1,1,-3,1,1,0,0,3,1,0,0,-2'\n",
      "done. sleep 4\n",
      "iter: 225: sent: b',1,1,0,0,1,3,0,0,3,0,0,-2,1,1,3,1,-2,-2,-3,1,-3,0,-2,0,-2,-2,1,0'\n",
      "done. sleep 4\n",
      "iter: 226: sent: b',1,3,0,0,1,1,-3,0,-3,0,1,1,1,-2,1,-2,-2,0,-2,-2,0,0,0,0,0,0,-3,-'\n",
      "done. sleep 4\n",
      "iter: 227: sent: b'2,-2,-2,-6,0,1,-3,0,-3,0,1,-2,0,-2,0,-2,0,-3,0,-3,-2,-3,-2,-3,0,'\n",
      "done. sleep 4\n",
      "iter: 228: sent: b'0,-3,1,-2,-2,0,0,-2,-3,-3,-2,-2,0,0,0,-2,1,-3,0,3,0,0,-3,-2,0,0,'\n",
      "done. sleep 4\n",
      "iter: 229: sent: b'0,-2,0,1,1,0,0,1,-2,3,-3,1,-2,0,0,-3,-3,0,0,-2,-3,0,-2,-3,1,0,0,'\n",
      "done. sleep 4\n",
      "iter: 230: sent: b'-3,0,-2,0,0,0,3,-3,0,1,4,1,0,4,1,-2,-2,1,0,0,-2,1,0,3,3,-3,-2,0,'\n",
      "done. sleep 4\n",
      "iter: 231: sent: b'1,0,-2,3,-2,1,3,-4,1,1,3,-2,1,3,0,1,0,-2,0,-2,0,0,-2,0,-2,1,0,0,'\n",
      "done. sleep 4\n",
      "iter: 232: sent: b'0,0,-3,-2,0,0,1,0,1,-2,1,1,1,0,-2,0,-2,0,-2,1,-2,3,3,-2,0,3,0,0,'\n",
      "done. sleep 4\n",
      "iter: 233: sent: b'3,1,1,0,3,0,0,1,3,1,0,0,0,1,1,-2,1,1,1,-2,0,-3,1,1,0,1,-2,0,0,-3'\n",
      "done. sleep 4\n",
      "iter: 234: sent: b',0,1,0,-3,0,1,0,-2,-2,1,-2,-2,-2,-2,-6,0,0,0,-3,0,-2,-3,-2,-2,-2'\n",
      "done. sleep 4\n",
      "iter: 235: sent: b',-2,-3,-2,-3,0,-2,-4,-3,-3,-2,-3,-2,0,0,1,-3,-4,-2,0,-2,-3,1,0,-'\n",
      "done. sleep 4\n",
      "iter: 236: sent: b'2,-2,-2,-2,-2,-2,-2,-2,-4,0,-3,-3,0,-3,-2,1,1,-3,-2,0,-2,-2,-3,0'\n",
      "done. sleep 4\n",
      "iter: 237: sent: b',-3,-3,-2,-3,-2,0,0,-2,-3,-3,-2,-2,-2,-3,1,-3,3,-2,-2,3,-2,1,0,1'\n",
      "done. sleep 4\n",
      "iter: 238: sent: b',0,-2,1,-2,0,0,0,-3,-2,-2,-2,-3,-2,3,-2,4,0,0,1,1,-2,-3,1,0,-2,1'\n",
      "done. sleep 4\n",
      "iter: 239: sent: b',1,-3,0,0,1,0,-3,-2,1,-2,-2,-2,-2,1,-2,1,-3,4,0,3,0,1,1,0,-2,0,-'\n",
      "done. sleep 4\n",
      "iter: 240: sent: b'3,1,0,3,-2,-2,1,0,1,-3,1,0,1,-2,1,0,-2,0,-2,1,3,1,-2,0,-2,0,0,1,'\n",
      "done. sleep 4\n",
      "iter: 241: sent: b'-2,1,1,1,-2,0,1,3,-3,-2,1,3,0,0,4,1,1,-2,3,1,-3,1,3,0,1,-2,-2,0,'\n",
      "done. sleep 4\n",
      "iter: 242: sent: b'0,-3,-2,0,1,-2,1,0,-3,-2,0,3,-2,1,-2,-3,1,-2,1,3,-2,3,1,1,0,1,3,'\n",
      "done. sleep 4\n",
      "iter: 243: sent: b'-3,3,1,-2,1,3,3,1,0,1,-2,3,0,0,3,-3,0,3,-2,0,3,0,-3,-2,0,-2,1,1,'\n",
      "done. sleep 4\n",
      "iter: 244: sent: b'-2,-2,-2,-2,-3,-2,0,1,0,0,0,0,0,0,0,0,1,-2,3,3,0,-2,0,-2,1,-2,-2'\n",
      "done. sleep 4\n",
      "iter: 245: sent: b',0,-3,-2,-3,-2,-3,0,0,1,1,1,-2,1,3,-2,1,-2,0,-2,-3,-2,-3,0,-4,-3'\n",
      "done. sleep 4\n",
      "iter: 246: sent: b',0,1,0,0,-2,-2,0,-2,-3,-2,-2,-2,-3,-2,0,3,-4,-2,-2,-2,0,3,-2,0,1'\n",
      "done. sleep 4\n",
      "iter: 247: sent: b',0,-2,3,-3,0,1,1,0,0,-2,-2,0,1,1,3,-2,1,-4,0,-2,3,0,-2,0,0,-2,-2'\n",
      "done. sleep 4\n",
      "iter: 248: sent: b',-3,-2,-3,-2,-2,0,0,1,0,1,0,0,0,0,0,0,-2,-2,1,0,0,0,1,0,1,-2,0,-'\n",
      "done. sleep 4\n",
      "iter: 249: sent: b'3,0,1,-3,3,1,0,1,1,1,-2,0,1,3,-2,-2,0,-2,0,-3,1,-3,3,1,-4,0,-2,1'\n",
      "done. sleep 4\n",
      "iter: 250: sent: b',0,0,0,-3,0,1,-3,1,4,-2,-2,-2,-2,1,-2,1,0,-2,1,1,0,1,0,0,4,1,0,3'\n",
      "done. sleep 4\n",
      "iter: 251: sent: b',3,-2,-3,0,0,-2,3,-2,-2,0,-2,1,0,3,1,3,1,3,0,0,0,-2,0,-2,0,-2,-2'\n",
      "done. sleep 4\n",
      "iter: 252: sent: b',0,0,1,0,0,1,0,0,-2,0,0,-2,-2,-2,-3,-2,1,-2,-3,-3,1,-2,1,-2,0,0,'\n",
      "done. sleep 4\n",
      "iter: 253: sent: b'3,0,0,1,1,-2,-2,3,0,-2,0,0,0,-2,0,4,0,-2,0,-3,-2,0,0,-2,3,-3,0,-'\n",
      "done. sleep 4\n",
      "iter: 254: sent: b'2,1,-3,-2,3,-3,-2,-2,-2,1,-2,-3,3,-4,0,0,0,-2,0,0,0,-2,-2,3,-2,-'\n",
      "done. sleep 4\n",
      "iter: 255: sent: b'3,-2,-2,1,-3,0,-4,-2,1,1,1,-2,-2,1,-3,0,0,-2,-2,0,-3,0,0,-2,-3,1'\n",
      "done. sleep 4\n",
      "iter: 256: sent: b',1,1,-2,3,1,0,-2,1,-3,0,-2,-2,-2,0,0,-2,0,-3,1,0,1,0,3,0,-2,-2,1'\n",
      "done. sleep 4\n",
      "iter: 257: sent: b',3,0,0,-2,-4,3,-3,1,0,-3,0,1,-2,0,1,-3,-2,-2,0,1,3,-3,0,0,-2,-4,'\n",
      "done. sleep 4\n",
      "iter: 258: sent: b'-4,-2,1,1,0,3,-2,0,1,1,0,1,1,-2,1,1,-2,0,3,0,1,1,1,0,1,1,-2,-2,0'\n",
      "done. sleep 4\n",
      "iter: 259: sent: b',0,0,3,1,0,1,1,0,0,1,0,0,1,-2,0,3,-3,3,1,3,3,1,0,1,0,1,0,0,0,1,0'\n",
      "done. sleep 4\n",
      "iter: 260: sent: b',3,3,3,0,1,-2,-2,3,0,0,-3,1,0,0,0,0,-2,0,0,-3,1,0,1,-2,0,-2,1,0,'\n",
      "done. sleep 4\n",
      "iter: 261: sent: b'3,-2,-2,-2,1,0,3,-2,0,-2,-2,-3,1,0,-2,0,-2,-2,0,-3,3,3,-3,-2,1,1'\n",
      "done. sleep 4\n",
      "iter: 262: sent: b',-2,-2,0,0,-3,0,-2,-3,-2,-2,1,0,1,-2,-4,1,0,0,0,-2,-4,0,1,0,-2,0'\n",
      "done. sleep 4\n",
      "iter: 263: sent: b',0,1,1,1,0,-2,1,0,0,-2,-3,1,-2,-3,1,-3,-2,-3,0,1,3,0,-2,-6,-2,0,'\n",
      "done. sleep 4\n",
      "iter: 264: sent: b'1,0,-3,0,0,-2,-2,-2,0,-3,0,-3,-2,-3,0,0,-2,0,-4,0,-3,-2,0,-3,0,0'\n",
      "done. sleep 4\n",
      "iter: 265: sent: b',0,-3,1,-2,0,-2,1,1,-2,-3,1,1,0,3,0,0,3,0,-2,1,3,-2,1,1,-2,0,-2,'\n",
      "done. sleep 4\n",
      "iter: 266: sent: b'-2,4,3,0,0,1,0,-2,-2,1,-2,3,1,-2,0,1,-4,0,-2,3,1,1,1,-2,1,0,1,0,'\n",
      "done. sleep 4\n",
      "iter: 267: sent: b'-3,0,0,-2,-3,0,1,1,1,0,1,0,-2,-2,-3,0,-2,1,1,1,-2,-3,0,-2,0,1,-3'\n",
      "done. sleep 4\n",
      "iter: 268: sent: b',3,-2,3,-2,-3,-2,3,0,0,0,1,1,-2,0,-3,-2,0,-6,1,1,1,0,4,3,-2,1,0,'\n",
      "done. sleep 4\n",
      "iter: 269: sent: b'1,-2,0,1,0,-3,-3,1,-2,-2,-2,0,0,0,1,-3,1,-3,-2,0,1,-2,-2,-2,0,3,'\n",
      "done. sleep 4\n",
      "iter: 270: sent: b'3,1,1,0,3,-4,0,-3,-2,0,0,0,0,0,0,1,0,-4,-2,-2,-2,0,0,1,0,-2,0,0,'\n",
      "done. sleep 4\n",
      "iter: 271: sent: b'0,-2,-2,0,0,1,-2,-2,1,1,0,1,1,1,0,0,0,-2,-2,-3,-2,-2,0,0,0,0,-2,'\n",
      "done. sleep 4\n",
      "iter: 272: sent: b'-2,1,-2,1,-2,0,-3,-2,0,1,3,0,0,-4,-2,-2,0,-2,0,-2,-2,-2,-3,0,-3,'\n",
      "done. sleep 4\n",
      "iter: 273: sent: b'3,-3,-2,-3,1,0,-2,1,4,0,-3,0,1,1,-2,0,0,1,1,-4,-3,1,0,0,-2,-2,1,'\n",
      "done. sleep 4\n",
      "iter: 274: sent: b'-2,-2,1,1,0,-2,-2,1,0,-3,0,-2,1,-2,-2,0,0,3,0,0,0,0,1,0,0,0,-2,-'\n",
      "done. sleep 4\n",
      "iter: 275: sent: b'2,1,0,-2,0,-4,1,0,1,1,-3,1,-2,0,-2,0,-2,-2,0,-2,-2,-2,0,-3,0,0,0'\n",
      "done. sleep 4\n",
      "iter: 276: sent: b',-2,1,0,-2,3,-3,0,3,3,3,3,-4,1,1,0,0,-2,0,-2,0,-3,0,-2,3,0,0,0,1'\n",
      "done. sleep 4\n",
      "iter: 277: sent: b',1,0,0,0,-2,-2,1,0,-2,0,3,-3,3,0,1,1,4,0,-3,-3,-2,1,-2,0,0,-3,-3'\n",
      "done. sleep 4\n",
      "iter: 278: sent: b',1,0,0,1,0,0,-3,1,-2,0,3,-3,1,1,-2,3,-2,0,-3,1,0,0,0,-2,0,1,-2,1'\n",
      "done. sleep 4\n",
      "iter: 279: sent: b',-2,-2,1,3,0,-2,0,4,0,0,0,0,0,0,-2,-2,1,-2,1,1,-2,-3,0,0,1,0,-2,'\n",
      "done. sleep 4\n",
      "iter: 280: sent: b'-2,-3,0,-3,-3,0,-3,0,0,0,-3,1,-4,-2,-2,-2,0,0,-2,1,-3,-3,0,0,-2,'\n",
      "done. sleep 4\n",
      "iter: 281: sent: b'0,-2,0,0,-2,1,3,1,-3,0,0,-2,-2,0,1,0,-2,-2,1,-2,3,1,0,-2,0,0,-3,'\n",
      "done. sleep 4\n",
      "iter: 282: sent: b'1,1,-3,-2,-2,0,-3,0,-2,0,3,-2,1,-4,0,-2,-2,-2,-3,0,-3,0,0,-2,-2,'\n",
      "done. sleep 4\n",
      "iter: 283: sent: b'1,-3,-2,0,0,1,-3,1,0,-2,1,3,0,-2,0,-2,1,0,0,0,1,0,0,-2,-2,-3,-3,'\n",
      "done. sleep 4\n",
      "iter: 284: sent: b'-3,-2,0,0,-2,0,0,0,-3,4,-2,-3,-4,-2,-2,0,0,-4,-2,-2,-3,-2,0,1,1,'\n",
      "done. sleep 4\n",
      "iter: 285: sent: b'0,0,0,1,1,0,0,-2,0,-3,-2,-3,0,1,-2,-2,1,0,3,1,-3,1,-2,0,0,0,0,1,'\n",
      "done. sleep 4\n",
      "iter: 286: sent: b'-2,0,0,0,0,-2,0,0,1,1,0,-2,0,-2,1,-2,3,1,-2,-2,-2,0,0,-2,0,-3,0,'\n",
      "done. sleep 4\n",
      "iter: 287: sent: b'-3,0,-3,1,-2,1,-2,1,0,0,0,1,-3,1,1,-4,0,-2,0,1,0,-2,4,-3,3,-2,0,'\n",
      "done. sleep 4\n",
      "iter: 288: sent: b'0,0,-3,1,-4,0,1,-2,1,0,3,3,1,-2,0,-2,0,-2,1,-3,0,3,1,-2,-2,-3,-3'\n",
      "done. sleep 4\n",
      "iter: 289: sent: b',-2,0,-2,1,0,0,1,0,-2,-2,-2,-3,3,0,0,0,-3,1,-2,-2,0,0,3,0,0,0,-2'\n",
      "done. sleep 4\n",
      "iter: 290: sent: b',-3,1,0,0,0,0,-2,-2,0,-2,-3,0,-4,0,0,-2,0,1,0,0,-2,1,-3,-2,0,1,-'\n",
      "done. sleep 4\n",
      "iter: 291: sent: b'2,-2,-2,1,-2,-2,-3,-3,-2,1,3,3,-2,1,-4,-3,-2,-2,-2,0,3,0,-4,-3,0'\n",
      "done. sleep 4\n",
      "iter: 292: sent: b',4,0,0,-2,0,1,1,-3,-2,0,-3,0,0,-2,0,1,-2,0,1,-4,3,-4,0,-2,1,0,0,'\n",
      "done. sleep 4\n",
      "iter: 293: sent: b'-2,0,1,-2,-3,-2,1,-2,1,1,0,-2,-3,0,0,3,-3,0,0,0,0,0,-2,-2,-2,0,-'\n",
      "done. sleep 4\n",
      "iter: 294: sent: b'4,-2,0,0,-2,0,3,0,0,0,1,1,-2,-2,-2,-2,-2,0,1,3,4,3,-4,0,1,-4,1,1'\n",
      "done. sleep 4\n",
      "iter: 295: sent: b',0,0,-2,1,-2,1,3,-4,-2,-2,-2,-2,-2,-4,0,0,0,0,0,-2,-2,0,-2,0,-2,'\n",
      "done. sleep 4\n",
      "iter: 296: sent: b'-3,1,-2,0,1,-2,0,0,1,0,-3,0,1,3,0,1,0,-3,1,0,1,-4,3,-3,-3,0,-3,0'\n",
      "done. sleep 4\n",
      "iter: 297: sent: b',-2,-3,3,0,0,0,1,1,-3,-2,0,-2,-2,0,1,0,1,1,-2,-2,1,0,0,0,-2,-2,0'\n",
      "done. sleep 4\n",
      "iter: 298: sent: b',-2,1,0,3,0,-2,-2,0,-2,-2,0,-2,-2,1,0,-2,0,0,-3,-2,-2,0,1,0,-3,3'\n",
      "done. sleep 4\n",
      "iter: 299: sent: b',1,0,-2,3,1,-3,-2,0,1,-2,-2,0,-2,-2,0,0,1,-2,0,0,1,1,0,-2,0,1,-2'\n",
      "done. sleep 4\n",
      "iter: 300: sent: b',0,-2,0,0,0,3,3,-2,1,1,0,0,1,-2,0,1,0,1,-2,-3,3,-2,-2,-2,0,1,1,1'\n",
      "done. sleep 4\n",
      "iter: 301: sent: b',1,0,0,1,0,1,1,-2,1,0,-3,0,-2,-2,1,0,1,-2,-3,-2,0,0,-2,3,-2,-2,1'\n",
      "done. sleep 4\n",
      "iter: 302: sent: b',1,0,-2,-2,0,0,0,0,0,0,0,3,-3,0,0,-2,0,3,3,1,0,1,-2,0,-2,0,-2,-2'\n",
      "done. sleep 4\n",
      "iter: 303: sent: b',-2,-2,-2,1,1,3,-2,-2,-2,1,0,1,1,0,0,1,3,0,1,-2,1,-2,0,0,-2,0,0,'\n",
      "done. sleep 4\n",
      "iter: 304: sent: b'-2,-2,0,-3,1,0,0,-3,1,0,1,1,0,3,0,-2,0,-2,1,1,0,1,0,-2,-3,-3,0,1'\n",
      "done. sleep 4\n",
      "iter: 305: sent: b',0,1,1,-2,1,-2,1,1,1,1,4,-2,0,-2,1,0,3,3,3,1,-3,0,0,0,0,0,0,-6,0'\n",
      "done. sleep 4\n",
      "iter: 306: sent: b',1,0,-2,-3,0,3,1,0,-3,1,-4,-2,-2,-2,0,1,-3,-2,-3,0,1,-2,-2,-2,0,'\n",
      "done. sleep 4\n",
      "iter: 307: sent: b'0,3,0,-2,-4,-2,0,0,-6,0,1,-2,0,1,-2,1,-3,-3,3,-2,-2,-3,-2,0,-3,4'\n",
      "done. sleep 4\n",
      "iter: 308: sent: b',1,-2,-3,1,1,-3,-3,-2,-3,-2,0,-4,1,-3,0,0,1,0,0,-3,-3,-3,-2,0,-2'\n",
      "done. sleep 4\n",
      "iter: 309: sent: b',-3,-2,0,1,-3,-2,3,0,-2,0,0,-3,-2,0,-2,0,-2,1,1,1,-2,0,-2,-2,3,-'\n",
      "done. sleep 4\n",
      "iter: 310: sent: b'4,-3,1,-4,1,0,-2,0,-2,-2,0,0,-2,0,0,1,0,0,-3,-2,0,-3,-2,3,-3,1,1'\n",
      "done. sleep 4\n",
      "iter: 311: sent: b',0,0,3,-2,1,0,-3,0,0,0,0,-2,0,3,0,0,-3,-4,-2,0,1,0,1,0,-2,0,-2,0'\n",
      "done. sleep 4\n",
      "iter: 312: sent: b',-2,1,0,-2,0,1,-3,1,-3,0,0,0,3,-2,-2,0,0,4,3,0,3,1,-2,-2,3,-2,-3'\n",
      "done. sleep 4\n",
      "iter: 313: sent: b',0,0,-2,0,1,1,3,1,0,3,1,3,-2,0,1,-2,-2,-2,0,0,-2,0,1,3,1,0,1,3,1'\n",
      "done. sleep 4\n",
      "iter: 314: sent: b',1,1,0,0,-3,-2,4,1,0,3,4,1,0,0,3,0,1,0,0,1,0,-3,0,1,-2,0,-3,1,1,'\n",
      "done. sleep 4\n",
      "iter: 315: sent: b'-3,1,1,1,0,0,1,1,0,-2,1,1,1,-3,-2,0,-2,0,0,1,-3,0,1,-4,0,-2,-2,-'\n",
      "done. sleep 4\n",
      "iter: 316: sent: b'2,3,-2,1,1,-2,-2,1,-2,1,0,-2,-2,0,-3,0,1,-2,-2,-2,-2,-2,1,0,3,-2'\n",
      "done. sleep 4\n",
      "iter: 317: sent: b',-4,1,0,3,0,-4,0,0,0,-3,1,0,0,3,0,0,0,-4,0,-2,0,0,1,0,1,0,3,-2,-'\n",
      "done. sleep 4\n",
      "iter: 318: sent: b'2,-2,-2,-2,0,0,-2,1,1,1,1,0,0,0,1,-2,3,-4,-2,-2,0,-2,0,0,-2,3,1,'\n",
      "done. sleep 4\n",
      "iter: 319: sent: b'1,-2,-4,-3,-3,1,0,1,1,0,-2,0,0,-2,-2,1,0,1,4,-3,-2,-2,1,1,1,0,1,'\n",
      "done. sleep 4\n",
      "iter: 320: sent: b'0,1,0,-2,0,0,3,0,-3,-2,-2,0,-2,1,1,0,-3,1,0,0,1,1,1,0,1,-2,0,-2,'\n",
      "done. sleep 4\n",
      "iter: 321: sent: b'-3,-2,-3,0,4,1,3,3,-2,0,-2,1,3,0,-2,-2,0,-2,0,-2,0,0,0,1,-2,1,1,'\n",
      "done. sleep 4\n",
      "iter: 322: sent: b'-2,-2,-2,3,-2,0,-2,1,0,-2,4,-2,0,-2,-2,1,1,0,1,1,1,-4,0,1,1,0,1,'\n",
      "done. sleep 4\n",
      "iter: 323: sent: b'-2,1,0,0,0,1,1,1,0,-2,0,-3,-2,0,1,-2,-2,1,-3,0,-2,0,0,-3,-2,3,0,'\n",
      "done. sleep 4\n",
      "iter: 324: sent: b'0,3,0,-3,-2,-4,0,0,0,0,0,0,1,1,0,0,-2,-2,0,0,1,1,0,0,-3,-4,0,1,1'\n",
      "done. sleep 4\n",
      "iter: 325: sent: b',-2,0,-3,0,-2,1,-2,0,0,0,-2,0,0,-2,0,-2,0,0,-2,0,0,-3,-2,-3,3,-3'\n",
      "done. sleep 4\n",
      "iter: 326: sent: b',-2,0,-2,-2,-2,0,-2,0,0,0,0,-2,-2,3,0,1,3,3,-2,0,-2,3,0,-2,-2,-2'\n",
      "done. sleep 4\n",
      "iter: 327: sent: b',1,-3,0,1,-3,0,1,-2,0,1,0,1,-4,0,-3,1,-2,-2,0,3,0,1,3,1,0,-4,1,-'\n",
      "done. sleep 4\n",
      "iter: 328: sent: b'3,1,0,-3,-2,-2,0,-3,-2,1,3,-3,-2,0,-2,-2,3,0,-2,1,1,-2,-3,0,-2,-'\n",
      "done. sleep 4\n",
      "iter adicional: 329: sent: b'2,0,1,0,-2,-2,0,-3,-2,0,0,1,3,1,-2,4,0,0\\r\\n'\n",
      "DONE.\n"
     ]
    }
   ],
   "source": [
    "Mediador.set_slave_address(address=4)  # Generador 1\n",
    "Generador.arb_download_to_volatile(samples=emitter_sint) # se queja cuando supera unas pocas muestras? Por qué? ¡el formato está bien!"
   ]
  },
  {
   "cell_type": "code",
   "execution_count": 307,
   "id": "4b1d7839-6be1-4e5f-a244-b2e7dacc11aa",
   "metadata": {},
   "outputs": [
    {
     "name": "stdout",
     "output_type": "stream",
     "text": [
      "Sent: *RST\n"
     ]
    }
   ],
   "source": [
    "Generador.reset()"
   ]
  },
  {
   "cell_type": "code",
   "execution_count": 334,
   "id": "e6ba70b7-53d7-46b2-a109-81de348adf87",
   "metadata": {},
   "outputs": [
    {
     "name": "stdout",
     "output_type": "stream",
     "text": [
      "Sent: SYSTem:ERRor?\n",
      "Read: b'-103,\"Invalid separator\"\\n'\n"
     ]
    },
    {
     "data": {
      "text/plain": [
       "b'-103,\"Invalid separator\"\\n'"
      ]
     },
     "execution_count": 334,
     "metadata": {},
     "output_type": "execute_result"
    }
   ],
   "source": [
    "Generador.error()"
   ]
  },
  {
   "cell_type": "code",
   "execution_count": 294,
   "id": "32ceefe3-eb10-4b6c-9469-68b2d3766e5c",
   "metadata": {},
   "outputs": [
    {
     "data": {
      "text/plain": [
       "b''"
      ]
     },
     "execution_count": 294,
     "metadata": {},
     "output_type": "execute_result"
    }
   ],
   "source": [
    "s.read()"
   ]
  },
  {
   "cell_type": "code",
   "execution_count": 137,
   "id": "701867f8-4ef5-461d-98dd-4dc4c7d571b4",
   "metadata": {},
   "outputs": [
    {
     "name": "stdout",
     "output_type": "stream",
     "text": [
      "19\n",
      "DATA:DAC VOLATILE, 3,3,0,1,0,-2,3,0,0,-27,-210,-451,-594,-646,-705,-858,-1062,-1234,-1359,-1459,-1564,-1685,-1793,-1849,-1891\n",
      "125\n"
     ]
    }
   ],
   "source": [
    "cmd = \"DATA:DAC VOLATILE, \"\n",
    "print(len(cmd))\n",
    "for item in emitter_sint[0:25]:\n",
    "    cmd += str(item) + \",\"\n",
    "cmd = cmd[0:-1]  # removes final comma\n",
    "\n",
    "print(cmd)\n",
    "print(len(cmd))"
   ]
  },
  {
   "cell_type": "code",
   "execution_count": 222,
   "id": "5b393df8-676f-4c03-b474-e5f6cbc5122d",
   "metadata": {},
   "outputs": [
    {
     "name": "stdout",
     "output_type": "stream",
     "text": [
      "Sent: DATA:COPY PRUEBA, VOLATILE\n",
      "Sent: FUNC:USER PRUEBA\n",
      "Sent: FUNC:SHAP USER\n"
     ]
    }
   ],
   "source": [
    "Generador._send(\"DATA:COPY PRUEBA, VOLATILE\")\n",
    "Generador._send(\"FUNC:USER PRUEBA\")\n",
    "Generador._send(\"FUNC:SHAP USER\")"
   ]
  },
  {
   "cell_type": "code",
   "execution_count": 120,
   "id": "2d65c9f2-88be-4f09-8ca0-583e5dee3b77",
   "metadata": {},
   "outputs": [
    {
     "name": "stdout",
     "output_type": "stream",
     "text": [
      "Sent: ++addr 10\n",
      "Sent: ++auto 0\n"
     ]
    }
   ],
   "source": [
    "Mediador.set_slave_address(address=10)\n",
    "Mediador.set_auto_response(auto_mode=0)"
   ]
  },
  {
   "cell_type": "code",
   "execution_count": 150,
   "id": "ea2f2b53-77d2-4afb-af7b-8029764498e6",
   "metadata": {},
   "outputs": [
    {
     "data": {
      "text/plain": [
       "-2021"
      ]
     },
     "execution_count": 150,
     "metadata": {},
     "output_type": "execute_result"
    }
   ],
   "source": [
    "emitter_sint[26]"
   ]
  },
  {
   "cell_type": "code",
   "execution_count": 164,
   "id": "a1318d12-6721-4a0a-a57b-920ac9be4395",
   "metadata": {},
   "outputs": [
    {
     "data": {
      "text/plain": [
       "-1532"
      ]
     },
     "execution_count": 164,
     "metadata": {},
     "output_type": "execute_result"
    }
   ],
   "source": [
    "emitter_sint[102]"
   ]
  },
  {
   "cell_type": "code",
   "execution_count": 212,
   "id": "9122b8d7-ad26-4bda-b45e-d9e6d0b02a19",
   "metadata": {},
   "outputs": [],
   "source": [
    "test_samples = [2047,1536,1024,512,0,-512,-1536,-2047]"
   ]
  },
  {
   "cell_type": "code",
   "execution_count": 213,
   "id": "7ad5bf79-fe46-42da-840a-517cd5beb258",
   "metadata": {},
   "outputs": [
    {
     "name": "stdout",
     "output_type": "stream",
     "text": [
      "Sending data, please wait.\n",
      "b'DATA:DAC VOLATILE, 2047,1536,1024,512,0,-512,-1536,-2047\\r\\n'\n"
     ]
    }
   ],
   "source": [
    "Generador.arb_download_to_volatile(samples=test_samples)"
   ]
  },
  {
   "cell_type": "code",
   "execution_count": 179,
   "id": "4437958e-f401-4cf5-a576-e0c9deed602c",
   "metadata": {},
   "outputs": [
    {
     "name": "stdout",
     "output_type": "stream",
     "text": [
      "Sent: *RST\n"
     ]
    }
   ],
   "source": [
    "Generador.reset()"
   ]
  },
  {
   "cell_type": "code",
   "execution_count": 96,
   "id": "75761809-ca03-474c-a91f-b4f26baca44a",
   "metadata": {},
   "outputs": [
    {
     "name": "stdout",
     "output_type": "stream",
     "text": [
      "Sent: ++addr 10\n"
     ]
    }
   ],
   "source": [
    "Mediador.set_slave_address(address=10)  # Generador 1"
   ]
  },
  {
   "cell_type": "code",
   "execution_count": 181,
   "id": "3afeb1bf-6335-40c6-9f71-c2fa3df93cca",
   "metadata": {},
   "outputs": [
    {
     "name": "stdout",
     "output_type": "stream",
     "text": [
      "Sent: DATA:DAC VOLATILE,3,3,0,1,0,-2,3,0,0,-27,-210,-451,-594,-646,-705,-858,-1062,-1234,-1359,-1459,-1564,-1685,-1793,-1849,-1891,-1951,-2021,-2047,-1996,-1905,-1817,-1746,-1655,-1520,-1381,-1274,-1160,-995,-791,-608,-464,-323,-171,-8,144,283,408,522,627,723,784,829,880,948,1001,1023,1032,1050,1061,1058,1059,1070,1089,1086,1079,1062,1049,1044,1044,1037,1017,993,966,915,844,770,714,651,567,456,334,208,85,-42,-184,-314,-445,-582,-724,-874,-997,-1110,-1215,-1315,-1415,-1499,-1559,-1592,-1625,-1641,-1636,-1591,-1532,-1473,-1405,-1314,-1206,-1092,-977,-858,-732,-603,-470,-343,-219,-105,9,119,218,304,375,440,495,542,583,612,634,645,643,628,610,613,625,637,621,597,567,556,553,546,528,502,483,470,452,431,413,405,396,383,359,334,313,295,277,254,236,221,203,184,160,139,127,105,88,64,46,21,-12,-48,-82,-109,-129,-156,-180,-207,-234,-253,-277,-298,-319,-337,-350,-365,-379,-391,-395,-394,-386,-383,-379,-368,-352,-341,-328,-320,-305,-297,-284,-279,-272,-275,-286,-290,-279,-259,-248,-252,-254,-253,-253,-243,-239,-237,-234,-225,-217,-211,-211,-203,-190,-178,-168,-162,-153,-141,-139,-132,-124,-111,-100,-87,-78,-72,-60,-49,-40,-36,-22,-11,1,16,21,25,36,49,63,73,88,94,100,108,119,126,137,152,163,169,175,178,188,199,205,214,226,230,235,238,239,248,256,268,268,272,274,277,284,281,287,290,299,298,299,298,302,299,299,300,302,300,300,296,292,290,292,290,289,286,281,275,274,266,266,260,253,254,247,239,233,230,220,215,211,206,197,194,185,178,169,166,161,148,145,141,126,121,115,108,101,94,85,78,70,64,57,54,45,39,31,25,15,12,4,0,-4,-9,-13,-24,-26,-31,-40,-40,-45,-49,-53,-62,-62,-66,-69,-75,-76,-75,-78,-82,-81,-85,-87,-90,-85,-89,-94,-91,-91,-93,-94,-87,-91,-87,-87,-85,-84,-82,-81,-84,-80,-76,-73,-69,-66,-66,-62,-57,-55,-49,-51,-48,-40,-38,-31,-30,-24,-21,-17,-13,-8,-4,-2,3,12,18,19,27,30,36,37,43,49,54,60,58,63,67,73,78,82,84,94,96,100,103,103,108,109,112,118,119,123,124,128,128,132,132,135,137,135,141,141,144,144,139,142,142,141,137,139,141,137,139,137,133,133,136,132,132,128,130,127,124,118,114,118,110,108,105,106,99,94,94,90,91,84,82,78,72,73,69,61,58,57,54,51,46,40,39,34,33,25,19,21,18,15,13,12,6,3,0,-4,-3,-6,-11,-11,-15,-15,-18,-21,-22,-24,-24,-29,-29,-30,-31,-31,-31,-29,-31,-31,-31,-33,-31,-30,-30,-30,-30,-29,-27,-24,-27,-26,-18,-22,-20,-18,-17,-12,-9,-11,-6,-6,-2,1,0,6,6,7,13,18,18,22,25,27,28,33,36,39,40,46,45,49,49,52,55,54,63,63,64,67,70,72,75,75,78,79,84,84,82,87,84,85,87,90,90,93,93,96,94,93,93,91,96,91,94,90,93,90,90,90,88,88,87,84,85,82,81,79,75,72,75,73,70,69,63,63,60,55,54,55,49,51,45,43,40,39,37,31,27,27,25,24,22,18,13,10,10,4,3,6,-6,-6,-9,-4,-8,-12,-15,-18,-17,-17,-20,-20,-22,-24,-24,-24,-27,-30,-29,-30,-31,-30,-35,-31,-31,-35,-35,-35,-31,-31,-31,-29,-33,-31,-29,-29,-26,-27,-22,-22,-24,-20,-18,-20,-15,-12,-12,-6,-6,-8,-4,-3,0,3,4,9,10,10,15,16,19,25,22,22,25,31,34,31,37,37,40,39,46,45,48,48,51,51,52,55,58,57,57,63,63,61,63,64,66,66,64,66,67,67,67,67,64,66,64,63,66,66,69,64,61,61,61,60,57,58,58,55,52,52,49,45,46,46,40,40,45,37,33,34,31,25,28,25,22,22,19,15,12,12,7,7,6,1,0,0,-3,-3,-6,-9,-15,-11,-15,-13,-18,-15,-20,-20,-24,-22,-24,-24,-27,-29,-30,-30,-31,-30,-30,-31,-35,-35,-33,-31,-33,-31,-33,-30,-33,-33,-30,-31,-27,-29,-29,-24,-26,-22,-21,-24,-21,-15,-13,-17,-15,-12,-11,-12,-6,-8,1,-3,0,1,6,6,10,9,12,15,16,19,19,24,25,27,30,34,33,37,37,39,42,43,45,48,49,49,52,54,58,54,60,60,64,61,63,66,67,67,67,70,70,67,69,73,70,73,73,72,70,73,72,70,73,72,72,69,70,70,69,66,69,64,61,61,61,58,55,60,58,52,52,49,51,46,43,45,40,39,39,34,30,30,30,22,24,22,18,15,13,13,10,4,7,3,0,-3,-9,-4,-6,-11,-12,-13,-15,-17,-17,-18,-22,-24,-24,-26,-27,-27,-30,-31,-30,-36,-35,-36,-35,-35,-36,-39,-38,-40,-38,-36,-39,-39,-39,-38,-36,-39,-38,-39,-35,-38,-36,-35,-33,-35,-33,-30,-30,-31,-29,-30,-29,-24,-22,-26,-24,-21,-18,-18,-15,-15,-12\n"
     ]
    }
   ],
   "source": [
    "Generador._send(f\"DATA:DAC VOLATILE,{cmd}\")"
   ]
  },
  {
   "cell_type": "code",
   "execution_count": 203,
   "id": "d984be8d-7d23-4a90-abad-ca35a2e520f1",
   "metadata": {},
   "outputs": [
    {
     "name": "stdout",
     "output_type": "stream",
     "text": [
      "Sent: DATA:COPY PRUEBA, VOLATILE\n"
     ]
    }
   ],
   "source": []
  },
  {
   "cell_type": "code",
   "execution_count": 204,
   "id": "7d4780d9-0b6d-444c-b1af-c03f08b05e02",
   "metadata": {},
   "outputs": [
    {
     "name": "stdout",
     "output_type": "stream",
     "text": [
      "Sent: FUNC:USER PRUEBA\n"
     ]
    }
   ],
   "source": []
  },
  {
   "cell_type": "code",
   "execution_count": 205,
   "id": "3101638b-80f2-47d6-830c-df374332f1de",
   "metadata": {},
   "outputs": [
    {
     "name": "stdout",
     "output_type": "stream",
     "text": [
      "Sent: FUNC:SHAP USER\n"
     ]
    }
   ],
   "source": []
  },
  {
   "cell_type": "markdown",
   "id": "de22bc51-2a56-4a38-ab4c-bb9861875bdd",
   "metadata": {},
   "source": [
    "## Envío de muestras de señal arbitraria por binario (NO FUNCIONA POR EL MOMENTO)"
   ]
  },
  {
   "cell_type": "code",
   "execution_count": 246,
   "id": "7191cf0a-d533-4cbe-b763-c55a191575a1",
   "metadata": {},
   "outputs": [
    {
     "name": "stdout",
     "output_type": "stream",
     "text": [
      "Frecuencia de muestreo: 392.196 kHz\n"
     ]
    }
   ],
   "source": [
    "import numpy as np\n",
    "\n",
    "filename = \"samples/Arbol_42_original/Arbol_42_A1_1.csv\"\n",
    "t, ch_a, ch_b = np.loadtxt(filename, delimiter=',', unpack=True, skiprows=3)\n",
    "\n",
    "# Ajustes de unidades\n",
    "time_offset = 1e-3 * abs(t[1])  # offset para eliminar tiempo negativo\n",
    "t = t * 1e-3 + time_offset  # ms to s, empezar en t0 = 0\n",
    "ch_b = ch_b * 1e-3  # mV to V\n",
    "\n",
    "L = len(ch_a)\n",
    "Ts = t[-1] / L  # periodo de muestreo\n",
    "Fs = int(1/Ts)  # frecuencia de muestreo\n",
    "\n",
    "print(f\"Frecuencia de muestreo: {Fs/1e3:.3f} kHz\")"
   ]
  },
  {
   "cell_type": "code",
   "execution_count": 247,
   "id": "95f019d5-e787-4dbe-a03a-cdf718403095",
   "metadata": {},
   "outputs": [
    {
     "name": "stdout",
     "output_type": "stream",
     "text": [
      "Tiempo máximo: 20.398 ms; Frecuencia de repetición de la señal: 49.000 Hz\n",
      "longitud de muestras: t2: 8000, emitter: 8000, receiver: 8000\n",
      "vmax,emitter: 7.221 V\n",
      "vmax,receiver: 69.039 mV\n"
     ]
    }
   ],
   "source": [
    "# organizadas en muestras de 16 bits (2 bytes)\n",
    "sample_init = 2900\n",
    "sample_end = 10900\n",
    "sample_num = sample_end - sample_init\n",
    "\n",
    "t2 = np.arange(0, sample_num, 1) * Ts  # nuevo vector temporal\n",
    "tmax = sample_num * Ts  # tiempo máximo, final del vector\n",
    "freq_rep = int(1/tmax)  # frecuencia de repetición de la señal completa\n",
    "\n",
    "emitter = ch_a[sample_init:sample_end]\n",
    "receiver = ch_b[sample_init:sample_end]\n",
    "\n",
    "print(f\"Tiempo máximo: {tmax*1e3:.3f} ms; Frecuencia de repetición de la señal: {freq_rep:.3f} Hz\")\n",
    "print(f\"longitud de muestras: t2: {len(t2)}, emitter: {len(emitter)}, receiver: {len(receiver)}\")\n",
    "\n",
    "vmax_emitter = max(abs(emitter))\n",
    "vmax_receiver = max(abs(receiver))\n",
    "print(f\"vmax,emitter: {vmax_emitter:.3f} V\\nvmax,receiver: {vmax_receiver*1e3:.3f} mV\")"
   ]
  },
  {
   "cell_type": "code",
   "execution_count": 257,
   "id": "57f835df-ec98-40ef-90d0-27b78cbc6c0c",
   "metadata": {},
   "outputs": [],
   "source": [
    "emitter_bin = samples_to_bin(emitter, v_max=vmax_emitter)"
   ]
  },
  {
   "cell_type": "code",
   "execution_count": 258,
   "id": "202a77b5-ca39-4fd3-9e50-3e2116a7d81f",
   "metadata": {},
   "outputs": [
    {
     "data": {
      "text/plain": [
       "8000"
      ]
     },
     "execution_count": 258,
     "metadata": {},
     "output_type": "execute_result"
    }
   ],
   "source": [
    "len(emitter_bin)"
   ]
  },
  {
   "cell_type": "code",
   "execution_count": 259,
   "id": "ec75e032-11f7-49e0-b830-f9a24ad37b96",
   "metadata": {},
   "outputs": [
    {
     "data": {
      "text/plain": [
       "8000"
      ]
     },
     "execution_count": 259,
     "metadata": {},
     "output_type": "execute_result"
    }
   ],
   "source": [
    "len(emitter)"
   ]
  },
  {
   "cell_type": "code",
   "execution_count": 260,
   "id": "12864fd4-fa81-4bb6-a23a-77bdefe016b7",
   "metadata": {},
   "outputs": [
    {
     "data": {
      "text/plain": [
       "bytes"
      ]
     },
     "execution_count": 260,
     "metadata": {},
     "output_type": "execute_result"
    }
   ],
   "source": [
    "type(emitter_bin[0])"
   ]
  },
  {
   "cell_type": "code",
   "execution_count": 261,
   "id": "54824686-b858-430a-92f5-2004e16c23c1",
   "metadata": {},
   "outputs": [
    {
     "name": "stdout",
     "output_type": "stream",
     "text": [
      "Sending data, please wait.\n",
      "Sent: DATA:DAC VOLATILE, #516000 <samples>\n"
     ]
    }
   ],
   "source": [
    "s.reset_input_buffer()\n",
    "s.reset_output_buffer()\n",
    "Generador.arb_download_binary_to_volatile(samples=emitter_bin)"
   ]
  },
  {
   "cell_type": "code",
   "execution_count": 272,
   "id": "33b88083-9138-4bb5-b175-53353a5af07c",
   "metadata": {},
   "outputs": [
    {
     "name": "stdout",
     "output_type": "stream",
     "text": [
      "Sent: SYSTem:ERRor?\n",
      "Read: b''\n"
     ]
    },
    {
     "data": {
      "text/plain": [
       "b''"
      ]
     },
     "execution_count": 272,
     "metadata": {},
     "output_type": "execute_result"
    }
   ],
   "source": [
    "Generador.error()"
   ]
  },
  {
   "cell_type": "code",
   "execution_count": 37,
   "id": "4baad4e7-a3ca-40e3-a24e-fdf97a4666f0",
   "metadata": {},
   "outputs": [
    {
     "name": "stdout",
     "output_type": "stream",
     "text": [
      "¡Sobreescribiendo datos!\n",
      "save_path = samples/Arbol_42_bin/Arbol_42_A1_1\n"
     ]
    },
    {
     "ename": "NameError",
     "evalue": "name 'emitter_bytearray' is not defined",
     "output_type": "error",
     "traceback": [
      "\u001b[0;31m---------------------------------------------------------------------------\u001b[0m",
      "\u001b[0;31mNameError\u001b[0m                                 Traceback (most recent call last)",
      "Input \u001b[0;32mIn [37]\u001b[0m, in \u001b[0;36m<module>\u001b[0;34m\u001b[0m\n\u001b[1;32m     11\u001b[0m \u001b[38;5;66;03m# Canal A - Emisor\u001b[39;00m\n\u001b[1;32m     12\u001b[0m \u001b[38;5;28;01mwith\u001b[39;00m \u001b[38;5;28mopen\u001b[39m(\u001b[38;5;124mf\u001b[39m\u001b[38;5;124m\"\u001b[39m\u001b[38;5;132;01m{\u001b[39;00msave_path\u001b[38;5;132;01m}\u001b[39;00m\u001b[38;5;124m/\u001b[39m\u001b[38;5;132;01m{\u001b[39;00marbol_file\u001b[38;5;132;01m}\u001b[39;00m\u001b[38;5;124m_e.bin\u001b[39m\u001b[38;5;124m\"\u001b[39m, \u001b[38;5;124m\"\u001b[39m\u001b[38;5;124mwb\u001b[39m\u001b[38;5;124m\"\u001b[39m) \u001b[38;5;28;01mas\u001b[39;00m f:\n\u001b[0;32m---> 13\u001b[0m     f\u001b[38;5;241m.\u001b[39mwrite(\u001b[43memitter_bytearray\u001b[49m)\n\u001b[1;32m     14\u001b[0m \u001b[38;5;66;03m# Canal B - Receptor\u001b[39;00m\n\u001b[1;32m     15\u001b[0m \u001b[38;5;28;01mwith\u001b[39;00m \u001b[38;5;28mopen\u001b[39m(\u001b[38;5;124mf\u001b[39m\u001b[38;5;124m\"\u001b[39m\u001b[38;5;132;01m{\u001b[39;00msave_path\u001b[38;5;132;01m}\u001b[39;00m\u001b[38;5;124m/\u001b[39m\u001b[38;5;132;01m{\u001b[39;00marbol_file\u001b[38;5;132;01m}\u001b[39;00m\u001b[38;5;124m_r.bin\u001b[39m\u001b[38;5;124m\"\u001b[39m, \u001b[38;5;124m\"\u001b[39m\u001b[38;5;124mwb\u001b[39m\u001b[38;5;124m\"\u001b[39m) \u001b[38;5;28;01mas\u001b[39;00m f:\n",
      "\u001b[0;31mNameError\u001b[0m: name 'emitter_bytearray' is not defined"
     ]
    }
   ],
   "source": [
    "import os\n",
    "\n",
    "arbol_file = str(filename.split('/')[-1]).split('.')[0]\n",
    "save_path = f\"samples/Arbol_42_bin/{arbol_file}\"\n",
    "try:\n",
    "    os.mkdir(save_path)\n",
    "except FileExistsError:\n",
    "    print(\"¡Sobreescribiendo datos!\")\n",
    "print(f\"save_path = {save_path}\")\n",
    "\n",
    "# Canal A - Emisor\n",
    "with open(f\"{save_path}/{arbol_file}_e.bin\", \"wb\") as f:\n",
    "    f.write(emitter_bytearray)\n",
    "# Canal B - Receptor\n",
    "with open(f\"{save_path}/{arbol_file}_r.bin\", \"wb\") as f:\n",
    "    f.write(receiver_bytearray)"
   ]
  },
  {
   "cell_type": "markdown",
   "id": "b626f9ee-1409-4fe8-821e-19d8c6b59cc2",
   "metadata": {
    "tags": []
   },
   "source": [
    "# Útiles\n",
    "\n",
    "Herramientas adicionales para complementar a la biblioteca que no encajan del todo dentro de las clases al ser funciones específicas. Se podrían implementar como métodos estáticos o bien integrar dentro de un método, ya que no van a ser usadas fuera de dicho entorno."
   ]
  },
  {
   "cell_type": "markdown",
   "id": "01af57b1-d424-4b7b-856d-f135fff6c78f",
   "metadata": {},
   "source": [
    "## Conversión de muestras de floating point a int con signo, en el rango de 12 bits.\n",
    "\n",
    "### Función de conversión."
   ]
  },
  {
   "cell_type": "code",
   "execution_count": 13,
   "id": "72f90ed0-062f-4dd9-aa7a-9dbdda785d28",
   "metadata": {},
   "outputs": [],
   "source": [
    "def samples_to_signed_int(samples_float, v_max, n_bits=12, byteorder=\"big\"):\n",
    "    \"\"\"\n",
    "    Convierte un vector de muestras en coma flotante a un vector de enteros \n",
    "    el número de bits (n_bits) y la +- amplitud máxima (absoluta) de la señal. \n",
    "    Se suponen muestras positivas y negativas.\n",
    "    \n",
    "    :param samples_float: vector de muestras de la señal, en coma flotante.\n",
    "    :param v_max: voltaje pico máximo y absoluto de la señal, el que corresponde\n",
    "        al valor de muestra mayor (+2047 ó -2047).\n",
    "    :param n_bits: nº bits del dac del generador (por defecto 12)\n",
    "    \n",
    "    :type samples_float list, tuple\n",
    "    :type v_max float, int\n",
    "    :type n_bits int\n",
    "    \n",
    "    :returns samples_sint: vector de muestras en entero con signo\n",
    "    \"\"\"\n",
    "    n_points = 2 ** (n_bits-1) - 1  # nº de cuantos del DAC\n",
    "    factor = n_points / (v_max)  # Factor de escalado de las muestras\n",
    "    \n",
    "    samples_sint = [int(round(sample * factor)) for sample in samples_float]\n",
    "    \n",
    "    return samples_sint"
   ]
  },
  {
   "cell_type": "markdown",
   "id": "96eee78c-90c7-4cc6-bab4-3570f96c20da",
   "metadata": {},
   "source": [
    "## Conversión de muestras en floating point a binario. \n",
    "\n",
    "### Función de conversión."
   ]
  },
  {
   "cell_type": "code",
   "execution_count": 256,
   "id": "addressed-environment",
   "metadata": {},
   "outputs": [],
   "source": [
    "from math import ceil  # Omitible si se fija el número de bytes a usar\n",
    "\n",
    "def samples_to_bin(samples_float, v_max, n_bits=12, byteorder=\"big\"):\n",
    "    \"\"\"\n",
    "    Convierte un vector de muestras en coma flotante a un vector de binariosegún \n",
    "    el número de bits (n_bits) y la +- amplitud máxima (absoluta) de la señal. \n",
    "    Se suponen muestras positivas y negativas.\n",
    "    \n",
    "    :param samples_float: vector de muestras de la señal, en coma flotante.\n",
    "    :param v_max: voltaje pico máximo y absoluto de la señal, el que corresponde\n",
    "        al valor de muestra mayor (+2047 ó -2047).\n",
    "    :param n_bits: nº bits del dac del generador (por defecto 12)\n",
    "    :param byteorder: orden de los bits: \"big\": MSB-first, \"little\": LSB-first\n",
    "    \n",
    "    :type samples_float list, tuple\n",
    "    :type v_max float, int\n",
    "    :type n_bits int\n",
    "    :type byteorder str\n",
    "    \n",
    "    :returns samples_bytes: vector de muestras en binario\n",
    "    \"\"\"\n",
    "    n_bytes = ceil(n_bits / 8)  # nº de bytes en los que codificar los datos\n",
    "    n_points = 2 ** (n_bits-1) - 1  # nº de cuantos del DAC\n",
    "    factor = n_points / (2 * v_max)  # Factor de escalado de las muestras\n",
    "    \n",
    "    samples_int = [int(round(sample * factor)) for sample in samples_float]\n",
    "    samples_bytes = [sample.to_bytes(n_bytes, byteorder, signed=True)\n",
    "                     for sample in samples_int]\n",
    "    \n",
    "    return samples_bytes"
   ]
  },
  {
   "cell_type": "code",
   "execution_count": 47,
   "id": "imperial-pixel",
   "metadata": {
    "tags": []
   },
   "outputs": [
    {
     "data": {
      "text/plain": [
       "array([ 3.29858704, -2.49004884,  4.84287024,  0.5818836 ,  2.37158616,\n",
       "        1.07225219,  4.41537672, -2.34845398, -0.3152414 , -2.71650964])"
      ]
     },
     "execution_count": 47,
     "metadata": {},
     "output_type": "execute_result"
    }
   ],
   "source": [
    "import numpy as np  # Usado para experimentar. la función no depende de numpy.\n",
    "\n",
    "n_bits = 12  # Nº de bits del DAC del generador\n",
    "n_ptos = 2**n_bits  # nº de cuantos del DAC\n",
    "v_max = 5  # Voltaje máximo absoluto, de la señal\n",
    "factor = n_ptos / (v_max * 2)\n",
    "\n",
    "samples_f = np.random.uniform(-v_max, v_max, size=(1, 10))  # Vector de prueba\n",
    "samples_f = samples_f[0]\n",
    "samples_f"
   ]
  },
  {
   "cell_type": "code",
   "execution_count": 48,
   "id": "e548cdd0-8f1f-4dc3-a9db-2a8adf4312b4",
   "metadata": {},
   "outputs": [
    {
     "data": {
      "text/plain": [
       "[b'\\x05G',\n",
       " b'\\xfc\\x04',\n",
       " b'\\x07\\xc0',\n",
       " b'\\x00\\xee',\n",
       " b'\\x03\\xcb',\n",
       " b'\\x01\\xb7',\n",
       " b'\\x07\\x11',\n",
       " b'\\xfc>',\n",
       " b'\\xff\\x7f',\n",
       " b'\\xfb\\xa7']"
      ]
     },
     "execution_count": 48,
     "metadata": {},
     "output_type": "execute_result"
    }
   ],
   "source": [
    "samples_b_func = samples_to_bin(samples_f, v_max)\n",
    "samples_b_func"
   ]
  },
  {
   "cell_type": "code",
   "execution_count": 49,
   "id": "eb7c0c47-41f9-42d1-9cba-4ad8ba22445e",
   "metadata": {},
   "outputs": [
    {
     "data": {
      "text/plain": [
       "array([ 3.29833984, -2.49023438,  4.84375   ,  0.58105469,  2.37060547,\n",
       "        1.07177734,  4.41650391, -2.34863281, -0.31494141, -2.71728516])"
      ]
     },
     "execution_count": 49,
     "metadata": {},
     "output_type": "execute_result"
    }
   ],
   "source": [
    "# Recuperando el valor de las muestras. Parece correcto.\n",
    "samples_rec_func = np.array([int.from_bytes(sample, byteorder='big', signed=True) \n",
    "                    for sample in samples_b_func]) / factor\n",
    "samples_rec_func"
   ]
  },
  {
   "cell_type": "code",
   "execution_count": 92,
   "id": "112cbf2a-719b-49d1-949c-0de617c93446",
   "metadata": {},
   "outputs": [
    {
     "name": "stdout",
     "output_type": "stream",
     "text": [
      "b'DATA:DAC VOLATILE, #220 \\x05G\\xc3\\xbc\\x04\\x07\\xc3\\x80\\x00\\xc3\\xae\\x03\\xc3\\x8b\\x01\\xc2\\xb7\\x07\\x11\\xc3\\xbc>\\xc3\\xbf\\x7f\\xc3\\xbb\\xc2\\xa7'\n"
     ]
    }
   ],
   "source": [
    "# Probando a insertar los bits en un string bytecoded\n",
    "L = len(samples_b_func)\n",
    "N = L * 2  # nº de bytes a enviar\n",
    "X = len(str(N)) # nº dígitos del nº de bytes\n",
    "cmd = f\"DATA:DAC VOLATILE, #{X}{N} \"\n",
    "cmd = cmd#.encode()\n",
    "for item in samples_b_func:\n",
    "    cmd = cmd + item.decode(\"latin1\")\n",
    "\n",
    "print(cmd.encode())"
   ]
  },
  {
   "cell_type": "markdown",
   "id": "b137df7c-158c-4a53-ad4e-ced6c9f6634c",
   "metadata": {},
   "source": [
    "### Pruebas de codificación binaria\n",
    "Pruebas para pasar de un vector de muestras a un vector de datos binarios, para a función de arriba."
   ]
  },
  {
   "cell_type": "code",
   "execution_count": 9,
   "id": "172d0b30-b022-48d3-9e1c-40e9b5bed5c4",
   "metadata": {},
   "outputs": [
    {
     "data": {
      "text/plain": [
       "[1513, 1647, -1336, 158, 1870, -705, 1702, 155, -933, 483]"
      ]
     },
     "execution_count": 9,
     "metadata": {},
     "output_type": "execute_result"
    }
   ],
   "source": [
    "# Muestras pasadas a \"valor de la muestra\" según los límites, en entero\n",
    "samples_i = np.around(samples_f * factor)  \n",
    "samples_i = [int(sample) for sample in samples_i]\n",
    "samples_i"
   ]
  },
  {
   "cell_type": "code",
   "execution_count": 10,
   "id": "58d0acbd-73dd-4530-923e-867c47588869",
   "metadata": {},
   "outputs": [
    {
     "data": {
      "text/plain": [
       "[b'\\x05\\xe9',\n",
       " b'\\x06o',\n",
       " b'\\xfa\\xc8',\n",
       " b'\\x00\\x9e',\n",
       " b'\\x07N',\n",
       " b'\\xfd?',\n",
       " b'\\x06\\xa6',\n",
       " b'\\x00\\x9b',\n",
       " b'\\xfc[',\n",
       " b'\\x01\\xe3']"
      ]
     },
     "execution_count": 10,
     "metadata": {},
     "output_type": "execute_result"
    }
   ],
   "source": [
    "# Muestras en binario.\n",
    "samples_b = [sample.to_bytes(2,            # nº bytes\n",
    "                             'big',        # orden de los bits. big -> MSB-First\n",
    "                             signed=True)  # Indicando que son valores con signo\n",
    "             for sample in samples_i]\n",
    "samples_b"
   ]
  },
  {
   "cell_type": "code",
   "execution_count": 68,
   "id": "fcde3a35-ac12-420e-a87a-d099fabf1742",
   "metadata": {},
   "outputs": [
    {
     "data": {
      "text/plain": [
       "bytes"
      ]
     },
     "execution_count": 68,
     "metadata": {},
     "output_type": "execute_result"
    }
   ],
   "source": [
    "type(samples_b[0])"
   ]
  },
  {
   "cell_type": "code",
   "execution_count": 6,
   "id": "401c6e1a-5b82-4823-91bf-644777db4a18",
   "metadata": {},
   "outputs": [
    {
     "data": {
      "text/plain": [
       "[808, 1911, -522, -66, 1667, 53, 1384, -56, 1513, -1272]"
      ]
     },
     "execution_count": 6,
     "metadata": {},
     "output_type": "execute_result"
    }
   ],
   "source": [
    "# Recuperando las muestras para comprobar que es correcto.\n",
    "samples_rec = [int.from_bytes(sample, byteorder='big', signed=True) \n",
    "               for sample in samples_b]\n",
    "samples_rec"
   ]
  },
  {
   "cell_type": "code",
   "execution_count": 46,
   "id": "775f36fd-220a-444a-a24c-93ea121e3a95",
   "metadata": {},
   "outputs": [
    {
     "data": {
      "text/plain": [
       "b'hola'"
      ]
     },
     "execution_count": 46,
     "metadata": {},
     "output_type": "execute_result"
    }
   ],
   "source": [
    "bytes(b\"hola\")"
   ]
  },
  {
   "cell_type": "code",
   "execution_count": null,
   "id": "e7d00d29-aaac-4deb-af78-ad18af663c25",
   "metadata": {},
   "outputs": [],
   "source": []
  }
 ],
 "metadata": {
  "kernelspec": {
   "display_name": "Python 3 (ipykernel)",
   "language": "python",
   "name": "python3"
  },
  "language_info": {
   "codemirror_mode": {
    "name": "ipython",
    "version": 3
   },
   "file_extension": ".py",
   "mimetype": "text/x-python",
   "name": "python",
   "nbconvert_exporter": "python",
   "pygments_lexer": "ipython3",
   "version": "3.10.4"
  }
 },
 "nbformat": 4,
 "nbformat_minor": 5
}
